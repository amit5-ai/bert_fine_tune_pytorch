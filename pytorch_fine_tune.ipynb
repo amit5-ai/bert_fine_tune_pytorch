{
  "nbformat": 4,
  "nbformat_minor": 0,
  "metadata": {
    "colab": {
      "provenance": [],
      "machine_shape": "hm",
      "gpuType": "A100",
      "authorship_tag": "ABX9TyP78kMPtIFMjcozvcDWf3by",
      "include_colab_link": true
    },
    "kernelspec": {
      "name": "python3",
      "display_name": "Python 3"
    },
    "language_info": {
      "name": "python"
    },
    "accelerator": "GPU",
    "widgets": {
      "application/vnd.jupyter.widget-state+json": {
        "35888477eb6642e7a7b0b5a99ce33453": {
          "model_module": "@jupyter-widgets/controls",
          "model_name": "HBoxModel",
          "model_module_version": "1.5.0",
          "state": {
            "_dom_classes": [],
            "_model_module": "@jupyter-widgets/controls",
            "_model_module_version": "1.5.0",
            "_model_name": "HBoxModel",
            "_view_count": null,
            "_view_module": "@jupyter-widgets/controls",
            "_view_module_version": "1.5.0",
            "_view_name": "HBoxView",
            "box_style": "",
            "children": [
              "IPY_MODEL_832a06fbc9b44b8f9c090ae75961dfbf",
              "IPY_MODEL_0501c219e7c1465da53e8c8840a8b0c5",
              "IPY_MODEL_9e06e368663945d09527bb815fba417d"
            ],
            "layout": "IPY_MODEL_94b9b3f1c7544885b8aa57484a5ec796"
          }
        },
        "832a06fbc9b44b8f9c090ae75961dfbf": {
          "model_module": "@jupyter-widgets/controls",
          "model_name": "HTMLModel",
          "model_module_version": "1.5.0",
          "state": {
            "_dom_classes": [],
            "_model_module": "@jupyter-widgets/controls",
            "_model_module_version": "1.5.0",
            "_model_name": "HTMLModel",
            "_view_count": null,
            "_view_module": "@jupyter-widgets/controls",
            "_view_module_version": "1.5.0",
            "_view_name": "HTMLView",
            "description": "",
            "description_tooltip": null,
            "layout": "IPY_MODEL_1dadff472d084815acbc5386dd7910ad",
            "placeholder": "​",
            "style": "IPY_MODEL_41f77a0f21924f5a89eb03c3ad5faf02",
            "value": "Map: 100%"
          }
        },
        "0501c219e7c1465da53e8c8840a8b0c5": {
          "model_module": "@jupyter-widgets/controls",
          "model_name": "FloatProgressModel",
          "model_module_version": "1.5.0",
          "state": {
            "_dom_classes": [],
            "_model_module": "@jupyter-widgets/controls",
            "_model_module_version": "1.5.0",
            "_model_name": "FloatProgressModel",
            "_view_count": null,
            "_view_module": "@jupyter-widgets/controls",
            "_view_module_version": "1.5.0",
            "_view_name": "ProgressView",
            "bar_style": "success",
            "description": "",
            "description_tooltip": null,
            "layout": "IPY_MODEL_74111746843c4fd88ba80187353362d7",
            "max": 10000,
            "min": 0,
            "orientation": "horizontal",
            "style": "IPY_MODEL_5a417f61a8a1406492050212270cffb9",
            "value": 10000
          }
        },
        "9e06e368663945d09527bb815fba417d": {
          "model_module": "@jupyter-widgets/controls",
          "model_name": "HTMLModel",
          "model_module_version": "1.5.0",
          "state": {
            "_dom_classes": [],
            "_model_module": "@jupyter-widgets/controls",
            "_model_module_version": "1.5.0",
            "_model_name": "HTMLModel",
            "_view_count": null,
            "_view_module": "@jupyter-widgets/controls",
            "_view_module_version": "1.5.0",
            "_view_name": "HTMLView",
            "description": "",
            "description_tooltip": null,
            "layout": "IPY_MODEL_80beac797d9649e69c76e5cef13e1f89",
            "placeholder": "​",
            "style": "IPY_MODEL_2a020f0bb3f045898ec0994c3bf7999e",
            "value": " 10000/10000 [00:03&lt;00:00, 2635.59 examples/s]"
          }
        },
        "94b9b3f1c7544885b8aa57484a5ec796": {
          "model_module": "@jupyter-widgets/base",
          "model_name": "LayoutModel",
          "model_module_version": "1.2.0",
          "state": {
            "_model_module": "@jupyter-widgets/base",
            "_model_module_version": "1.2.0",
            "_model_name": "LayoutModel",
            "_view_count": null,
            "_view_module": "@jupyter-widgets/base",
            "_view_module_version": "1.2.0",
            "_view_name": "LayoutView",
            "align_content": null,
            "align_items": null,
            "align_self": null,
            "border": null,
            "bottom": null,
            "display": null,
            "flex": null,
            "flex_flow": null,
            "grid_area": null,
            "grid_auto_columns": null,
            "grid_auto_flow": null,
            "grid_auto_rows": null,
            "grid_column": null,
            "grid_gap": null,
            "grid_row": null,
            "grid_template_areas": null,
            "grid_template_columns": null,
            "grid_template_rows": null,
            "height": null,
            "justify_content": null,
            "justify_items": null,
            "left": null,
            "margin": null,
            "max_height": null,
            "max_width": null,
            "min_height": null,
            "min_width": null,
            "object_fit": null,
            "object_position": null,
            "order": null,
            "overflow": null,
            "overflow_x": null,
            "overflow_y": null,
            "padding": null,
            "right": null,
            "top": null,
            "visibility": null,
            "width": null
          }
        },
        "1dadff472d084815acbc5386dd7910ad": {
          "model_module": "@jupyter-widgets/base",
          "model_name": "LayoutModel",
          "model_module_version": "1.2.0",
          "state": {
            "_model_module": "@jupyter-widgets/base",
            "_model_module_version": "1.2.0",
            "_model_name": "LayoutModel",
            "_view_count": null,
            "_view_module": "@jupyter-widgets/base",
            "_view_module_version": "1.2.0",
            "_view_name": "LayoutView",
            "align_content": null,
            "align_items": null,
            "align_self": null,
            "border": null,
            "bottom": null,
            "display": null,
            "flex": null,
            "flex_flow": null,
            "grid_area": null,
            "grid_auto_columns": null,
            "grid_auto_flow": null,
            "grid_auto_rows": null,
            "grid_column": null,
            "grid_gap": null,
            "grid_row": null,
            "grid_template_areas": null,
            "grid_template_columns": null,
            "grid_template_rows": null,
            "height": null,
            "justify_content": null,
            "justify_items": null,
            "left": null,
            "margin": null,
            "max_height": null,
            "max_width": null,
            "min_height": null,
            "min_width": null,
            "object_fit": null,
            "object_position": null,
            "order": null,
            "overflow": null,
            "overflow_x": null,
            "overflow_y": null,
            "padding": null,
            "right": null,
            "top": null,
            "visibility": null,
            "width": null
          }
        },
        "41f77a0f21924f5a89eb03c3ad5faf02": {
          "model_module": "@jupyter-widgets/controls",
          "model_name": "DescriptionStyleModel",
          "model_module_version": "1.5.0",
          "state": {
            "_model_module": "@jupyter-widgets/controls",
            "_model_module_version": "1.5.0",
            "_model_name": "DescriptionStyleModel",
            "_view_count": null,
            "_view_module": "@jupyter-widgets/base",
            "_view_module_version": "1.2.0",
            "_view_name": "StyleView",
            "description_width": ""
          }
        },
        "74111746843c4fd88ba80187353362d7": {
          "model_module": "@jupyter-widgets/base",
          "model_name": "LayoutModel",
          "model_module_version": "1.2.0",
          "state": {
            "_model_module": "@jupyter-widgets/base",
            "_model_module_version": "1.2.0",
            "_model_name": "LayoutModel",
            "_view_count": null,
            "_view_module": "@jupyter-widgets/base",
            "_view_module_version": "1.2.0",
            "_view_name": "LayoutView",
            "align_content": null,
            "align_items": null,
            "align_self": null,
            "border": null,
            "bottom": null,
            "display": null,
            "flex": null,
            "flex_flow": null,
            "grid_area": null,
            "grid_auto_columns": null,
            "grid_auto_flow": null,
            "grid_auto_rows": null,
            "grid_column": null,
            "grid_gap": null,
            "grid_row": null,
            "grid_template_areas": null,
            "grid_template_columns": null,
            "grid_template_rows": null,
            "height": null,
            "justify_content": null,
            "justify_items": null,
            "left": null,
            "margin": null,
            "max_height": null,
            "max_width": null,
            "min_height": null,
            "min_width": null,
            "object_fit": null,
            "object_position": null,
            "order": null,
            "overflow": null,
            "overflow_x": null,
            "overflow_y": null,
            "padding": null,
            "right": null,
            "top": null,
            "visibility": null,
            "width": null
          }
        },
        "5a417f61a8a1406492050212270cffb9": {
          "model_module": "@jupyter-widgets/controls",
          "model_name": "ProgressStyleModel",
          "model_module_version": "1.5.0",
          "state": {
            "_model_module": "@jupyter-widgets/controls",
            "_model_module_version": "1.5.0",
            "_model_name": "ProgressStyleModel",
            "_view_count": null,
            "_view_module": "@jupyter-widgets/base",
            "_view_module_version": "1.2.0",
            "_view_name": "StyleView",
            "bar_color": null,
            "description_width": ""
          }
        },
        "80beac797d9649e69c76e5cef13e1f89": {
          "model_module": "@jupyter-widgets/base",
          "model_name": "LayoutModel",
          "model_module_version": "1.2.0",
          "state": {
            "_model_module": "@jupyter-widgets/base",
            "_model_module_version": "1.2.0",
            "_model_name": "LayoutModel",
            "_view_count": null,
            "_view_module": "@jupyter-widgets/base",
            "_view_module_version": "1.2.0",
            "_view_name": "LayoutView",
            "align_content": null,
            "align_items": null,
            "align_self": null,
            "border": null,
            "bottom": null,
            "display": null,
            "flex": null,
            "flex_flow": null,
            "grid_area": null,
            "grid_auto_columns": null,
            "grid_auto_flow": null,
            "grid_auto_rows": null,
            "grid_column": null,
            "grid_gap": null,
            "grid_row": null,
            "grid_template_areas": null,
            "grid_template_columns": null,
            "grid_template_rows": null,
            "height": null,
            "justify_content": null,
            "justify_items": null,
            "left": null,
            "margin": null,
            "max_height": null,
            "max_width": null,
            "min_height": null,
            "min_width": null,
            "object_fit": null,
            "object_position": null,
            "order": null,
            "overflow": null,
            "overflow_x": null,
            "overflow_y": null,
            "padding": null,
            "right": null,
            "top": null,
            "visibility": null,
            "width": null
          }
        },
        "2a020f0bb3f045898ec0994c3bf7999e": {
          "model_module": "@jupyter-widgets/controls",
          "model_name": "DescriptionStyleModel",
          "model_module_version": "1.5.0",
          "state": {
            "_model_module": "@jupyter-widgets/controls",
            "_model_module_version": "1.5.0",
            "_model_name": "DescriptionStyleModel",
            "_view_count": null,
            "_view_module": "@jupyter-widgets/base",
            "_view_module_version": "1.2.0",
            "_view_name": "StyleView",
            "description_width": ""
          }
        },
        "170e9df9e2494aa0891aa1b3f813e39f": {
          "model_module": "@jupyter-widgets/controls",
          "model_name": "HBoxModel",
          "model_module_version": "1.5.0",
          "state": {
            "_dom_classes": [],
            "_model_module": "@jupyter-widgets/controls",
            "_model_module_version": "1.5.0",
            "_model_name": "HBoxModel",
            "_view_count": null,
            "_view_module": "@jupyter-widgets/controls",
            "_view_module_version": "1.5.0",
            "_view_name": "HBoxView",
            "box_style": "",
            "children": [
              "IPY_MODEL_ff437dd2f5a643cf98a1c4fbda3f8414",
              "IPY_MODEL_699c855c86fc4979858eb79be454b5be",
              "IPY_MODEL_36caf9233be84ee89556075f69e500b3"
            ],
            "layout": "IPY_MODEL_83bff8932a1b4ca893b08208ca26f40e"
          }
        },
        "ff437dd2f5a643cf98a1c4fbda3f8414": {
          "model_module": "@jupyter-widgets/controls",
          "model_name": "HTMLModel",
          "model_module_version": "1.5.0",
          "state": {
            "_dom_classes": [],
            "_model_module": "@jupyter-widgets/controls",
            "_model_module_version": "1.5.0",
            "_model_name": "HTMLModel",
            "_view_count": null,
            "_view_module": "@jupyter-widgets/controls",
            "_view_module_version": "1.5.0",
            "_view_name": "HTMLView",
            "description": "",
            "description_tooltip": null,
            "layout": "IPY_MODEL_84389cb13a514173a4e370b43fdbe05c",
            "placeholder": "​",
            "style": "IPY_MODEL_766be7d6c0cc47fd86087e2ce46b4540",
            "value": "events.out.tfevents.1715836622.58394d5d4d26.4795.1: 100%"
          }
        },
        "699c855c86fc4979858eb79be454b5be": {
          "model_module": "@jupyter-widgets/controls",
          "model_name": "FloatProgressModel",
          "model_module_version": "1.5.0",
          "state": {
            "_dom_classes": [],
            "_model_module": "@jupyter-widgets/controls",
            "_model_module_version": "1.5.0",
            "_model_name": "FloatProgressModel",
            "_view_count": null,
            "_view_module": "@jupyter-widgets/controls",
            "_view_module_version": "1.5.0",
            "_view_name": "ProgressView",
            "bar_style": "success",
            "description": "",
            "description_tooltip": null,
            "layout": "IPY_MODEL_12b4a705c638431da4188ed3b99c6b8c",
            "max": 9161,
            "min": 0,
            "orientation": "horizontal",
            "style": "IPY_MODEL_068dce9592e74a1b8914fddc709780aa",
            "value": 9161
          }
        },
        "36caf9233be84ee89556075f69e500b3": {
          "model_module": "@jupyter-widgets/controls",
          "model_name": "HTMLModel",
          "model_module_version": "1.5.0",
          "state": {
            "_dom_classes": [],
            "_model_module": "@jupyter-widgets/controls",
            "_model_module_version": "1.5.0",
            "_model_name": "HTMLModel",
            "_view_count": null,
            "_view_module": "@jupyter-widgets/controls",
            "_view_module_version": "1.5.0",
            "_view_name": "HTMLView",
            "description": "",
            "description_tooltip": null,
            "layout": "IPY_MODEL_8a0005411bc94ecebc0c7192c6b4bea3",
            "placeholder": "​",
            "style": "IPY_MODEL_ef0b86c5861045a380a17b8eab8dddc8",
            "value": " 9.16k/9.16k [00:00&lt;00:00, 34.2kB/s]"
          }
        },
        "83bff8932a1b4ca893b08208ca26f40e": {
          "model_module": "@jupyter-widgets/base",
          "model_name": "LayoutModel",
          "model_module_version": "1.2.0",
          "state": {
            "_model_module": "@jupyter-widgets/base",
            "_model_module_version": "1.2.0",
            "_model_name": "LayoutModel",
            "_view_count": null,
            "_view_module": "@jupyter-widgets/base",
            "_view_module_version": "1.2.0",
            "_view_name": "LayoutView",
            "align_content": null,
            "align_items": null,
            "align_self": null,
            "border": null,
            "bottom": null,
            "display": null,
            "flex": null,
            "flex_flow": null,
            "grid_area": null,
            "grid_auto_columns": null,
            "grid_auto_flow": null,
            "grid_auto_rows": null,
            "grid_column": null,
            "grid_gap": null,
            "grid_row": null,
            "grid_template_areas": null,
            "grid_template_columns": null,
            "grid_template_rows": null,
            "height": null,
            "justify_content": null,
            "justify_items": null,
            "left": null,
            "margin": null,
            "max_height": null,
            "max_width": null,
            "min_height": null,
            "min_width": null,
            "object_fit": null,
            "object_position": null,
            "order": null,
            "overflow": null,
            "overflow_x": null,
            "overflow_y": null,
            "padding": null,
            "right": null,
            "top": null,
            "visibility": null,
            "width": null
          }
        },
        "84389cb13a514173a4e370b43fdbe05c": {
          "model_module": "@jupyter-widgets/base",
          "model_name": "LayoutModel",
          "model_module_version": "1.2.0",
          "state": {
            "_model_module": "@jupyter-widgets/base",
            "_model_module_version": "1.2.0",
            "_model_name": "LayoutModel",
            "_view_count": null,
            "_view_module": "@jupyter-widgets/base",
            "_view_module_version": "1.2.0",
            "_view_name": "LayoutView",
            "align_content": null,
            "align_items": null,
            "align_self": null,
            "border": null,
            "bottom": null,
            "display": null,
            "flex": null,
            "flex_flow": null,
            "grid_area": null,
            "grid_auto_columns": null,
            "grid_auto_flow": null,
            "grid_auto_rows": null,
            "grid_column": null,
            "grid_gap": null,
            "grid_row": null,
            "grid_template_areas": null,
            "grid_template_columns": null,
            "grid_template_rows": null,
            "height": null,
            "justify_content": null,
            "justify_items": null,
            "left": null,
            "margin": null,
            "max_height": null,
            "max_width": null,
            "min_height": null,
            "min_width": null,
            "object_fit": null,
            "object_position": null,
            "order": null,
            "overflow": null,
            "overflow_x": null,
            "overflow_y": null,
            "padding": null,
            "right": null,
            "top": null,
            "visibility": null,
            "width": null
          }
        },
        "766be7d6c0cc47fd86087e2ce46b4540": {
          "model_module": "@jupyter-widgets/controls",
          "model_name": "DescriptionStyleModel",
          "model_module_version": "1.5.0",
          "state": {
            "_model_module": "@jupyter-widgets/controls",
            "_model_module_version": "1.5.0",
            "_model_name": "DescriptionStyleModel",
            "_view_count": null,
            "_view_module": "@jupyter-widgets/base",
            "_view_module_version": "1.2.0",
            "_view_name": "StyleView",
            "description_width": ""
          }
        },
        "12b4a705c638431da4188ed3b99c6b8c": {
          "model_module": "@jupyter-widgets/base",
          "model_name": "LayoutModel",
          "model_module_version": "1.2.0",
          "state": {
            "_model_module": "@jupyter-widgets/base",
            "_model_module_version": "1.2.0",
            "_model_name": "LayoutModel",
            "_view_count": null,
            "_view_module": "@jupyter-widgets/base",
            "_view_module_version": "1.2.0",
            "_view_name": "LayoutView",
            "align_content": null,
            "align_items": null,
            "align_self": null,
            "border": null,
            "bottom": null,
            "display": null,
            "flex": null,
            "flex_flow": null,
            "grid_area": null,
            "grid_auto_columns": null,
            "grid_auto_flow": null,
            "grid_auto_rows": null,
            "grid_column": null,
            "grid_gap": null,
            "grid_row": null,
            "grid_template_areas": null,
            "grid_template_columns": null,
            "grid_template_rows": null,
            "height": null,
            "justify_content": null,
            "justify_items": null,
            "left": null,
            "margin": null,
            "max_height": null,
            "max_width": null,
            "min_height": null,
            "min_width": null,
            "object_fit": null,
            "object_position": null,
            "order": null,
            "overflow": null,
            "overflow_x": null,
            "overflow_y": null,
            "padding": null,
            "right": null,
            "top": null,
            "visibility": null,
            "width": null
          }
        },
        "068dce9592e74a1b8914fddc709780aa": {
          "model_module": "@jupyter-widgets/controls",
          "model_name": "ProgressStyleModel",
          "model_module_version": "1.5.0",
          "state": {
            "_model_module": "@jupyter-widgets/controls",
            "_model_module_version": "1.5.0",
            "_model_name": "ProgressStyleModel",
            "_view_count": null,
            "_view_module": "@jupyter-widgets/base",
            "_view_module_version": "1.2.0",
            "_view_name": "StyleView",
            "bar_color": null,
            "description_width": ""
          }
        },
        "8a0005411bc94ecebc0c7192c6b4bea3": {
          "model_module": "@jupyter-widgets/base",
          "model_name": "LayoutModel",
          "model_module_version": "1.2.0",
          "state": {
            "_model_module": "@jupyter-widgets/base",
            "_model_module_version": "1.2.0",
            "_model_name": "LayoutModel",
            "_view_count": null,
            "_view_module": "@jupyter-widgets/base",
            "_view_module_version": "1.2.0",
            "_view_name": "LayoutView",
            "align_content": null,
            "align_items": null,
            "align_self": null,
            "border": null,
            "bottom": null,
            "display": null,
            "flex": null,
            "flex_flow": null,
            "grid_area": null,
            "grid_auto_columns": null,
            "grid_auto_flow": null,
            "grid_auto_rows": null,
            "grid_column": null,
            "grid_gap": null,
            "grid_row": null,
            "grid_template_areas": null,
            "grid_template_columns": null,
            "grid_template_rows": null,
            "height": null,
            "justify_content": null,
            "justify_items": null,
            "left": null,
            "margin": null,
            "max_height": null,
            "max_width": null,
            "min_height": null,
            "min_width": null,
            "object_fit": null,
            "object_position": null,
            "order": null,
            "overflow": null,
            "overflow_x": null,
            "overflow_y": null,
            "padding": null,
            "right": null,
            "top": null,
            "visibility": null,
            "width": null
          }
        },
        "ef0b86c5861045a380a17b8eab8dddc8": {
          "model_module": "@jupyter-widgets/controls",
          "model_name": "DescriptionStyleModel",
          "model_module_version": "1.5.0",
          "state": {
            "_model_module": "@jupyter-widgets/controls",
            "_model_module_version": "1.5.0",
            "_model_name": "DescriptionStyleModel",
            "_view_count": null,
            "_view_module": "@jupyter-widgets/base",
            "_view_module_version": "1.2.0",
            "_view_name": "StyleView",
            "description_width": ""
          }
        },
        "181481756ec94b479d5b5c90239036cb": {
          "model_module": "@jupyter-widgets/controls",
          "model_name": "HBoxModel",
          "model_module_version": "1.5.0",
          "state": {
            "_dom_classes": [],
            "_model_module": "@jupyter-widgets/controls",
            "_model_module_version": "1.5.0",
            "_model_name": "HBoxModel",
            "_view_count": null,
            "_view_module": "@jupyter-widgets/controls",
            "_view_module_version": "1.5.0",
            "_view_name": "HBoxView",
            "box_style": "",
            "children": [
              "IPY_MODEL_b58eb530518349df8a43ef86d89b82bd",
              "IPY_MODEL_f82e8c7a216342709d313852595f7b7b",
              "IPY_MODEL_e7b8e4c8c2424e07800471d32b9c7138"
            ],
            "layout": "IPY_MODEL_86a3f98ea2b74c62b906f0c80bde49df"
          }
        },
        "b58eb530518349df8a43ef86d89b82bd": {
          "model_module": "@jupyter-widgets/controls",
          "model_name": "HTMLModel",
          "model_module_version": "1.5.0",
          "state": {
            "_dom_classes": [],
            "_model_module": "@jupyter-widgets/controls",
            "_model_module_version": "1.5.0",
            "_model_name": "HTMLModel",
            "_view_count": null,
            "_view_module": "@jupyter-widgets/controls",
            "_view_module_version": "1.5.0",
            "_view_name": "HTMLView",
            "description": "",
            "description_tooltip": null,
            "layout": "IPY_MODEL_6fddae11ae69434f88a257c2389c867a",
            "placeholder": "​",
            "style": "IPY_MODEL_d37e65ec8b0d42229346b6fcfeefba95",
            "value": "events.out.tfevents.1715837015.58394d5d4d26.19926.0: 100%"
          }
        },
        "f82e8c7a216342709d313852595f7b7b": {
          "model_module": "@jupyter-widgets/controls",
          "model_name": "FloatProgressModel",
          "model_module_version": "1.5.0",
          "state": {
            "_dom_classes": [],
            "_model_module": "@jupyter-widgets/controls",
            "_model_module_version": "1.5.0",
            "_model_name": "FloatProgressModel",
            "_view_count": null,
            "_view_module": "@jupyter-widgets/controls",
            "_view_module_version": "1.5.0",
            "_view_name": "ProgressView",
            "bar_style": "success",
            "description": "",
            "description_tooltip": null,
            "layout": "IPY_MODEL_22f3108441b0430891582a93dcde6048",
            "max": 20191,
            "min": 0,
            "orientation": "horizontal",
            "style": "IPY_MODEL_bd87f5ab956b4bcfb4d3746a9aaabdab",
            "value": 20191
          }
        },
        "e7b8e4c8c2424e07800471d32b9c7138": {
          "model_module": "@jupyter-widgets/controls",
          "model_name": "HTMLModel",
          "model_module_version": "1.5.0",
          "state": {
            "_dom_classes": [],
            "_model_module": "@jupyter-widgets/controls",
            "_model_module_version": "1.5.0",
            "_model_name": "HTMLModel",
            "_view_count": null,
            "_view_module": "@jupyter-widgets/controls",
            "_view_module_version": "1.5.0",
            "_view_name": "HTMLView",
            "description": "",
            "description_tooltip": null,
            "layout": "IPY_MODEL_8ada4ad5979b4710b443245d4dcbab6b",
            "placeholder": "​",
            "style": "IPY_MODEL_f136ada78a954f90b2aa0b882b7b4865",
            "value": " 20.2k/20.2k [00:00&lt;00:00, 59.8kB/s]"
          }
        },
        "86a3f98ea2b74c62b906f0c80bde49df": {
          "model_module": "@jupyter-widgets/base",
          "model_name": "LayoutModel",
          "model_module_version": "1.2.0",
          "state": {
            "_model_module": "@jupyter-widgets/base",
            "_model_module_version": "1.2.0",
            "_model_name": "LayoutModel",
            "_view_count": null,
            "_view_module": "@jupyter-widgets/base",
            "_view_module_version": "1.2.0",
            "_view_name": "LayoutView",
            "align_content": null,
            "align_items": null,
            "align_self": null,
            "border": null,
            "bottom": null,
            "display": null,
            "flex": null,
            "flex_flow": null,
            "grid_area": null,
            "grid_auto_columns": null,
            "grid_auto_flow": null,
            "grid_auto_rows": null,
            "grid_column": null,
            "grid_gap": null,
            "grid_row": null,
            "grid_template_areas": null,
            "grid_template_columns": null,
            "grid_template_rows": null,
            "height": null,
            "justify_content": null,
            "justify_items": null,
            "left": null,
            "margin": null,
            "max_height": null,
            "max_width": null,
            "min_height": null,
            "min_width": null,
            "object_fit": null,
            "object_position": null,
            "order": null,
            "overflow": null,
            "overflow_x": null,
            "overflow_y": null,
            "padding": null,
            "right": null,
            "top": null,
            "visibility": null,
            "width": null
          }
        },
        "6fddae11ae69434f88a257c2389c867a": {
          "model_module": "@jupyter-widgets/base",
          "model_name": "LayoutModel",
          "model_module_version": "1.2.0",
          "state": {
            "_model_module": "@jupyter-widgets/base",
            "_model_module_version": "1.2.0",
            "_model_name": "LayoutModel",
            "_view_count": null,
            "_view_module": "@jupyter-widgets/base",
            "_view_module_version": "1.2.0",
            "_view_name": "LayoutView",
            "align_content": null,
            "align_items": null,
            "align_self": null,
            "border": null,
            "bottom": null,
            "display": null,
            "flex": null,
            "flex_flow": null,
            "grid_area": null,
            "grid_auto_columns": null,
            "grid_auto_flow": null,
            "grid_auto_rows": null,
            "grid_column": null,
            "grid_gap": null,
            "grid_row": null,
            "grid_template_areas": null,
            "grid_template_columns": null,
            "grid_template_rows": null,
            "height": null,
            "justify_content": null,
            "justify_items": null,
            "left": null,
            "margin": null,
            "max_height": null,
            "max_width": null,
            "min_height": null,
            "min_width": null,
            "object_fit": null,
            "object_position": null,
            "order": null,
            "overflow": null,
            "overflow_x": null,
            "overflow_y": null,
            "padding": null,
            "right": null,
            "top": null,
            "visibility": null,
            "width": null
          }
        },
        "d37e65ec8b0d42229346b6fcfeefba95": {
          "model_module": "@jupyter-widgets/controls",
          "model_name": "DescriptionStyleModel",
          "model_module_version": "1.5.0",
          "state": {
            "_model_module": "@jupyter-widgets/controls",
            "_model_module_version": "1.5.0",
            "_model_name": "DescriptionStyleModel",
            "_view_count": null,
            "_view_module": "@jupyter-widgets/base",
            "_view_module_version": "1.2.0",
            "_view_name": "StyleView",
            "description_width": ""
          }
        },
        "22f3108441b0430891582a93dcde6048": {
          "model_module": "@jupyter-widgets/base",
          "model_name": "LayoutModel",
          "model_module_version": "1.2.0",
          "state": {
            "_model_module": "@jupyter-widgets/base",
            "_model_module_version": "1.2.0",
            "_model_name": "LayoutModel",
            "_view_count": null,
            "_view_module": "@jupyter-widgets/base",
            "_view_module_version": "1.2.0",
            "_view_name": "LayoutView",
            "align_content": null,
            "align_items": null,
            "align_self": null,
            "border": null,
            "bottom": null,
            "display": null,
            "flex": null,
            "flex_flow": null,
            "grid_area": null,
            "grid_auto_columns": null,
            "grid_auto_flow": null,
            "grid_auto_rows": null,
            "grid_column": null,
            "grid_gap": null,
            "grid_row": null,
            "grid_template_areas": null,
            "grid_template_columns": null,
            "grid_template_rows": null,
            "height": null,
            "justify_content": null,
            "justify_items": null,
            "left": null,
            "margin": null,
            "max_height": null,
            "max_width": null,
            "min_height": null,
            "min_width": null,
            "object_fit": null,
            "object_position": null,
            "order": null,
            "overflow": null,
            "overflow_x": null,
            "overflow_y": null,
            "padding": null,
            "right": null,
            "top": null,
            "visibility": null,
            "width": null
          }
        },
        "bd87f5ab956b4bcfb4d3746a9aaabdab": {
          "model_module": "@jupyter-widgets/controls",
          "model_name": "ProgressStyleModel",
          "model_module_version": "1.5.0",
          "state": {
            "_model_module": "@jupyter-widgets/controls",
            "_model_module_version": "1.5.0",
            "_model_name": "ProgressStyleModel",
            "_view_count": null,
            "_view_module": "@jupyter-widgets/base",
            "_view_module_version": "1.2.0",
            "_view_name": "StyleView",
            "bar_color": null,
            "description_width": ""
          }
        },
        "8ada4ad5979b4710b443245d4dcbab6b": {
          "model_module": "@jupyter-widgets/base",
          "model_name": "LayoutModel",
          "model_module_version": "1.2.0",
          "state": {
            "_model_module": "@jupyter-widgets/base",
            "_model_module_version": "1.2.0",
            "_model_name": "LayoutModel",
            "_view_count": null,
            "_view_module": "@jupyter-widgets/base",
            "_view_module_version": "1.2.0",
            "_view_name": "LayoutView",
            "align_content": null,
            "align_items": null,
            "align_self": null,
            "border": null,
            "bottom": null,
            "display": null,
            "flex": null,
            "flex_flow": null,
            "grid_area": null,
            "grid_auto_columns": null,
            "grid_auto_flow": null,
            "grid_auto_rows": null,
            "grid_column": null,
            "grid_gap": null,
            "grid_row": null,
            "grid_template_areas": null,
            "grid_template_columns": null,
            "grid_template_rows": null,
            "height": null,
            "justify_content": null,
            "justify_items": null,
            "left": null,
            "margin": null,
            "max_height": null,
            "max_width": null,
            "min_height": null,
            "min_width": null,
            "object_fit": null,
            "object_position": null,
            "order": null,
            "overflow": null,
            "overflow_x": null,
            "overflow_y": null,
            "padding": null,
            "right": null,
            "top": null,
            "visibility": null,
            "width": null
          }
        },
        "f136ada78a954f90b2aa0b882b7b4865": {
          "model_module": "@jupyter-widgets/controls",
          "model_name": "DescriptionStyleModel",
          "model_module_version": "1.5.0",
          "state": {
            "_model_module": "@jupyter-widgets/controls",
            "_model_module_version": "1.5.0",
            "_model_name": "DescriptionStyleModel",
            "_view_count": null,
            "_view_module": "@jupyter-widgets/base",
            "_view_module_version": "1.2.0",
            "_view_name": "StyleView",
            "description_width": ""
          }
        },
        "7934bc1ca23b4bccacae15c59c47bcb3": {
          "model_module": "@jupyter-widgets/controls",
          "model_name": "HBoxModel",
          "model_module_version": "1.5.0",
          "state": {
            "_dom_classes": [],
            "_model_module": "@jupyter-widgets/controls",
            "_model_module_version": "1.5.0",
            "_model_name": "HBoxModel",
            "_view_count": null,
            "_view_module": "@jupyter-widgets/controls",
            "_view_module_version": "1.5.0",
            "_view_name": "HBoxView",
            "box_style": "",
            "children": [
              "IPY_MODEL_cf9c0953049f4f7a907a49a6b5d36c42",
              "IPY_MODEL_89a11836c3ab4380a107728fc3ebd4c5",
              "IPY_MODEL_032d7ea10a4b4ad4b8afa8f40056d37e"
            ],
            "layout": "IPY_MODEL_ddf155d63c8f40b69f558b2816c4200e"
          }
        },
        "cf9c0953049f4f7a907a49a6b5d36c42": {
          "model_module": "@jupyter-widgets/controls",
          "model_name": "HTMLModel",
          "model_module_version": "1.5.0",
          "state": {
            "_dom_classes": [],
            "_model_module": "@jupyter-widgets/controls",
            "_model_module_version": "1.5.0",
            "_model_name": "HTMLModel",
            "_view_count": null,
            "_view_module": "@jupyter-widgets/controls",
            "_view_module_version": "1.5.0",
            "_view_name": "HTMLView",
            "description": "",
            "description_tooltip": null,
            "layout": "IPY_MODEL_7736bc68158c484f95b2589b44c5c105",
            "placeholder": "​",
            "style": "IPY_MODEL_a398e77933674087b40cea150001623f",
            "value": "training_args.bin: 100%"
          }
        },
        "89a11836c3ab4380a107728fc3ebd4c5": {
          "model_module": "@jupyter-widgets/controls",
          "model_name": "FloatProgressModel",
          "model_module_version": "1.5.0",
          "state": {
            "_dom_classes": [],
            "_model_module": "@jupyter-widgets/controls",
            "_model_module_version": "1.5.0",
            "_model_name": "FloatProgressModel",
            "_view_count": null,
            "_view_module": "@jupyter-widgets/controls",
            "_view_module_version": "1.5.0",
            "_view_name": "ProgressView",
            "bar_style": "success",
            "description": "",
            "description_tooltip": null,
            "layout": "IPY_MODEL_a342d43fef374fbd916fd9d86aecdc99",
            "max": 4984,
            "min": 0,
            "orientation": "horizontal",
            "style": "IPY_MODEL_afd1bffed80943df9fab4f3c73cbd378",
            "value": 4984
          }
        },
        "032d7ea10a4b4ad4b8afa8f40056d37e": {
          "model_module": "@jupyter-widgets/controls",
          "model_name": "HTMLModel",
          "model_module_version": "1.5.0",
          "state": {
            "_dom_classes": [],
            "_model_module": "@jupyter-widgets/controls",
            "_model_module_version": "1.5.0",
            "_model_name": "HTMLModel",
            "_view_count": null,
            "_view_module": "@jupyter-widgets/controls",
            "_view_module_version": "1.5.0",
            "_view_name": "HTMLView",
            "description": "",
            "description_tooltip": null,
            "layout": "IPY_MODEL_06faf8b89b1142398aad9c9f8b0d936f",
            "placeholder": "​",
            "style": "IPY_MODEL_eb0fa3b0be7a4923a31bcda46d854623",
            "value": " 4.98k/4.98k [00:00&lt;00:00, 19.1kB/s]"
          }
        },
        "ddf155d63c8f40b69f558b2816c4200e": {
          "model_module": "@jupyter-widgets/base",
          "model_name": "LayoutModel",
          "model_module_version": "1.2.0",
          "state": {
            "_model_module": "@jupyter-widgets/base",
            "_model_module_version": "1.2.0",
            "_model_name": "LayoutModel",
            "_view_count": null,
            "_view_module": "@jupyter-widgets/base",
            "_view_module_version": "1.2.0",
            "_view_name": "LayoutView",
            "align_content": null,
            "align_items": null,
            "align_self": null,
            "border": null,
            "bottom": null,
            "display": null,
            "flex": null,
            "flex_flow": null,
            "grid_area": null,
            "grid_auto_columns": null,
            "grid_auto_flow": null,
            "grid_auto_rows": null,
            "grid_column": null,
            "grid_gap": null,
            "grid_row": null,
            "grid_template_areas": null,
            "grid_template_columns": null,
            "grid_template_rows": null,
            "height": null,
            "justify_content": null,
            "justify_items": null,
            "left": null,
            "margin": null,
            "max_height": null,
            "max_width": null,
            "min_height": null,
            "min_width": null,
            "object_fit": null,
            "object_position": null,
            "order": null,
            "overflow": null,
            "overflow_x": null,
            "overflow_y": null,
            "padding": null,
            "right": null,
            "top": null,
            "visibility": null,
            "width": null
          }
        },
        "7736bc68158c484f95b2589b44c5c105": {
          "model_module": "@jupyter-widgets/base",
          "model_name": "LayoutModel",
          "model_module_version": "1.2.0",
          "state": {
            "_model_module": "@jupyter-widgets/base",
            "_model_module_version": "1.2.0",
            "_model_name": "LayoutModel",
            "_view_count": null,
            "_view_module": "@jupyter-widgets/base",
            "_view_module_version": "1.2.0",
            "_view_name": "LayoutView",
            "align_content": null,
            "align_items": null,
            "align_self": null,
            "border": null,
            "bottom": null,
            "display": null,
            "flex": null,
            "flex_flow": null,
            "grid_area": null,
            "grid_auto_columns": null,
            "grid_auto_flow": null,
            "grid_auto_rows": null,
            "grid_column": null,
            "grid_gap": null,
            "grid_row": null,
            "grid_template_areas": null,
            "grid_template_columns": null,
            "grid_template_rows": null,
            "height": null,
            "justify_content": null,
            "justify_items": null,
            "left": null,
            "margin": null,
            "max_height": null,
            "max_width": null,
            "min_height": null,
            "min_width": null,
            "object_fit": null,
            "object_position": null,
            "order": null,
            "overflow": null,
            "overflow_x": null,
            "overflow_y": null,
            "padding": null,
            "right": null,
            "top": null,
            "visibility": null,
            "width": null
          }
        },
        "a398e77933674087b40cea150001623f": {
          "model_module": "@jupyter-widgets/controls",
          "model_name": "DescriptionStyleModel",
          "model_module_version": "1.5.0",
          "state": {
            "_model_module": "@jupyter-widgets/controls",
            "_model_module_version": "1.5.0",
            "_model_name": "DescriptionStyleModel",
            "_view_count": null,
            "_view_module": "@jupyter-widgets/base",
            "_view_module_version": "1.2.0",
            "_view_name": "StyleView",
            "description_width": ""
          }
        },
        "a342d43fef374fbd916fd9d86aecdc99": {
          "model_module": "@jupyter-widgets/base",
          "model_name": "LayoutModel",
          "model_module_version": "1.2.0",
          "state": {
            "_model_module": "@jupyter-widgets/base",
            "_model_module_version": "1.2.0",
            "_model_name": "LayoutModel",
            "_view_count": null,
            "_view_module": "@jupyter-widgets/base",
            "_view_module_version": "1.2.0",
            "_view_name": "LayoutView",
            "align_content": null,
            "align_items": null,
            "align_self": null,
            "border": null,
            "bottom": null,
            "display": null,
            "flex": null,
            "flex_flow": null,
            "grid_area": null,
            "grid_auto_columns": null,
            "grid_auto_flow": null,
            "grid_auto_rows": null,
            "grid_column": null,
            "grid_gap": null,
            "grid_row": null,
            "grid_template_areas": null,
            "grid_template_columns": null,
            "grid_template_rows": null,
            "height": null,
            "justify_content": null,
            "justify_items": null,
            "left": null,
            "margin": null,
            "max_height": null,
            "max_width": null,
            "min_height": null,
            "min_width": null,
            "object_fit": null,
            "object_position": null,
            "order": null,
            "overflow": null,
            "overflow_x": null,
            "overflow_y": null,
            "padding": null,
            "right": null,
            "top": null,
            "visibility": null,
            "width": null
          }
        },
        "afd1bffed80943df9fab4f3c73cbd378": {
          "model_module": "@jupyter-widgets/controls",
          "model_name": "ProgressStyleModel",
          "model_module_version": "1.5.0",
          "state": {
            "_model_module": "@jupyter-widgets/controls",
            "_model_module_version": "1.5.0",
            "_model_name": "ProgressStyleModel",
            "_view_count": null,
            "_view_module": "@jupyter-widgets/base",
            "_view_module_version": "1.2.0",
            "_view_name": "StyleView",
            "bar_color": null,
            "description_width": ""
          }
        },
        "06faf8b89b1142398aad9c9f8b0d936f": {
          "model_module": "@jupyter-widgets/base",
          "model_name": "LayoutModel",
          "model_module_version": "1.2.0",
          "state": {
            "_model_module": "@jupyter-widgets/base",
            "_model_module_version": "1.2.0",
            "_model_name": "LayoutModel",
            "_view_count": null,
            "_view_module": "@jupyter-widgets/base",
            "_view_module_version": "1.2.0",
            "_view_name": "LayoutView",
            "align_content": null,
            "align_items": null,
            "align_self": null,
            "border": null,
            "bottom": null,
            "display": null,
            "flex": null,
            "flex_flow": null,
            "grid_area": null,
            "grid_auto_columns": null,
            "grid_auto_flow": null,
            "grid_auto_rows": null,
            "grid_column": null,
            "grid_gap": null,
            "grid_row": null,
            "grid_template_areas": null,
            "grid_template_columns": null,
            "grid_template_rows": null,
            "height": null,
            "justify_content": null,
            "justify_items": null,
            "left": null,
            "margin": null,
            "max_height": null,
            "max_width": null,
            "min_height": null,
            "min_width": null,
            "object_fit": null,
            "object_position": null,
            "order": null,
            "overflow": null,
            "overflow_x": null,
            "overflow_y": null,
            "padding": null,
            "right": null,
            "top": null,
            "visibility": null,
            "width": null
          }
        },
        "eb0fa3b0be7a4923a31bcda46d854623": {
          "model_module": "@jupyter-widgets/controls",
          "model_name": "DescriptionStyleModel",
          "model_module_version": "1.5.0",
          "state": {
            "_model_module": "@jupyter-widgets/controls",
            "_model_module_version": "1.5.0",
            "_model_name": "DescriptionStyleModel",
            "_view_count": null,
            "_view_module": "@jupyter-widgets/base",
            "_view_module_version": "1.2.0",
            "_view_name": "StyleView",
            "description_width": ""
          }
        },
        "6b41abe54f5b47a58ebe793be80cd2d3": {
          "model_module": "@jupyter-widgets/controls",
          "model_name": "HBoxModel",
          "model_module_version": "1.5.0",
          "state": {
            "_dom_classes": [],
            "_model_module": "@jupyter-widgets/controls",
            "_model_module_version": "1.5.0",
            "_model_name": "HBoxModel",
            "_view_count": null,
            "_view_module": "@jupyter-widgets/controls",
            "_view_module_version": "1.5.0",
            "_view_name": "HBoxView",
            "box_style": "",
            "children": [
              "IPY_MODEL_77b3dc35ffaa403bb29dfb8be014638d",
              "IPY_MODEL_0723a02c09304cd58c7198f4f4bcba63",
              "IPY_MODEL_fe8782f73e3f45b0b74b7937f3de9504"
            ],
            "layout": "IPY_MODEL_48a169345370445dbf5524515cb06971"
          }
        },
        "77b3dc35ffaa403bb29dfb8be014638d": {
          "model_module": "@jupyter-widgets/controls",
          "model_name": "HTMLModel",
          "model_module_version": "1.5.0",
          "state": {
            "_dom_classes": [],
            "_model_module": "@jupyter-widgets/controls",
            "_model_module_version": "1.5.0",
            "_model_name": "HTMLModel",
            "_view_count": null,
            "_view_module": "@jupyter-widgets/controls",
            "_view_module_version": "1.5.0",
            "_view_name": "HTMLView",
            "description": "",
            "description_tooltip": null,
            "layout": "IPY_MODEL_3f7e191e6c114f4c93746452749794ed",
            "placeholder": "​",
            "style": "IPY_MODEL_30695bc7f3824ddda8e67bdc9bcbc1fe",
            "value": "model.safetensors: 100%"
          }
        },
        "0723a02c09304cd58c7198f4f4bcba63": {
          "model_module": "@jupyter-widgets/controls",
          "model_name": "FloatProgressModel",
          "model_module_version": "1.5.0",
          "state": {
            "_dom_classes": [],
            "_model_module": "@jupyter-widgets/controls",
            "_model_module_version": "1.5.0",
            "_model_name": "FloatProgressModel",
            "_view_count": null,
            "_view_module": "@jupyter-widgets/controls",
            "_view_module_version": "1.5.0",
            "_view_name": "ProgressView",
            "bar_style": "success",
            "description": "",
            "description_tooltip": null,
            "layout": "IPY_MODEL_f1f552a00d40473dafff380c115b0620",
            "max": 433572216,
            "min": 0,
            "orientation": "horizontal",
            "style": "IPY_MODEL_38087c7993f649f197170416835a3dff",
            "value": 433572216
          }
        },
        "fe8782f73e3f45b0b74b7937f3de9504": {
          "model_module": "@jupyter-widgets/controls",
          "model_name": "HTMLModel",
          "model_module_version": "1.5.0",
          "state": {
            "_dom_classes": [],
            "_model_module": "@jupyter-widgets/controls",
            "_model_module_version": "1.5.0",
            "_model_name": "HTMLModel",
            "_view_count": null,
            "_view_module": "@jupyter-widgets/controls",
            "_view_module_version": "1.5.0",
            "_view_name": "HTMLView",
            "description": "",
            "description_tooltip": null,
            "layout": "IPY_MODEL_c0469e4ba055447898afce27c18de833",
            "placeholder": "​",
            "style": "IPY_MODEL_fbacb00173db49c5b39396d2fd8c15f5",
            "value": " 434M/434M [00:21&lt;00:00, 34.5MB/s]"
          }
        },
        "48a169345370445dbf5524515cb06971": {
          "model_module": "@jupyter-widgets/base",
          "model_name": "LayoutModel",
          "model_module_version": "1.2.0",
          "state": {
            "_model_module": "@jupyter-widgets/base",
            "_model_module_version": "1.2.0",
            "_model_name": "LayoutModel",
            "_view_count": null,
            "_view_module": "@jupyter-widgets/base",
            "_view_module_version": "1.2.0",
            "_view_name": "LayoutView",
            "align_content": null,
            "align_items": null,
            "align_self": null,
            "border": null,
            "bottom": null,
            "display": null,
            "flex": null,
            "flex_flow": null,
            "grid_area": null,
            "grid_auto_columns": null,
            "grid_auto_flow": null,
            "grid_auto_rows": null,
            "grid_column": null,
            "grid_gap": null,
            "grid_row": null,
            "grid_template_areas": null,
            "grid_template_columns": null,
            "grid_template_rows": null,
            "height": null,
            "justify_content": null,
            "justify_items": null,
            "left": null,
            "margin": null,
            "max_height": null,
            "max_width": null,
            "min_height": null,
            "min_width": null,
            "object_fit": null,
            "object_position": null,
            "order": null,
            "overflow": null,
            "overflow_x": null,
            "overflow_y": null,
            "padding": null,
            "right": null,
            "top": null,
            "visibility": null,
            "width": null
          }
        },
        "3f7e191e6c114f4c93746452749794ed": {
          "model_module": "@jupyter-widgets/base",
          "model_name": "LayoutModel",
          "model_module_version": "1.2.0",
          "state": {
            "_model_module": "@jupyter-widgets/base",
            "_model_module_version": "1.2.0",
            "_model_name": "LayoutModel",
            "_view_count": null,
            "_view_module": "@jupyter-widgets/base",
            "_view_module_version": "1.2.0",
            "_view_name": "LayoutView",
            "align_content": null,
            "align_items": null,
            "align_self": null,
            "border": null,
            "bottom": null,
            "display": null,
            "flex": null,
            "flex_flow": null,
            "grid_area": null,
            "grid_auto_columns": null,
            "grid_auto_flow": null,
            "grid_auto_rows": null,
            "grid_column": null,
            "grid_gap": null,
            "grid_row": null,
            "grid_template_areas": null,
            "grid_template_columns": null,
            "grid_template_rows": null,
            "height": null,
            "justify_content": null,
            "justify_items": null,
            "left": null,
            "margin": null,
            "max_height": null,
            "max_width": null,
            "min_height": null,
            "min_width": null,
            "object_fit": null,
            "object_position": null,
            "order": null,
            "overflow": null,
            "overflow_x": null,
            "overflow_y": null,
            "padding": null,
            "right": null,
            "top": null,
            "visibility": null,
            "width": null
          }
        },
        "30695bc7f3824ddda8e67bdc9bcbc1fe": {
          "model_module": "@jupyter-widgets/controls",
          "model_name": "DescriptionStyleModel",
          "model_module_version": "1.5.0",
          "state": {
            "_model_module": "@jupyter-widgets/controls",
            "_model_module_version": "1.5.0",
            "_model_name": "DescriptionStyleModel",
            "_view_count": null,
            "_view_module": "@jupyter-widgets/base",
            "_view_module_version": "1.2.0",
            "_view_name": "StyleView",
            "description_width": ""
          }
        },
        "f1f552a00d40473dafff380c115b0620": {
          "model_module": "@jupyter-widgets/base",
          "model_name": "LayoutModel",
          "model_module_version": "1.2.0",
          "state": {
            "_model_module": "@jupyter-widgets/base",
            "_model_module_version": "1.2.0",
            "_model_name": "LayoutModel",
            "_view_count": null,
            "_view_module": "@jupyter-widgets/base",
            "_view_module_version": "1.2.0",
            "_view_name": "LayoutView",
            "align_content": null,
            "align_items": null,
            "align_self": null,
            "border": null,
            "bottom": null,
            "display": null,
            "flex": null,
            "flex_flow": null,
            "grid_area": null,
            "grid_auto_columns": null,
            "grid_auto_flow": null,
            "grid_auto_rows": null,
            "grid_column": null,
            "grid_gap": null,
            "grid_row": null,
            "grid_template_areas": null,
            "grid_template_columns": null,
            "grid_template_rows": null,
            "height": null,
            "justify_content": null,
            "justify_items": null,
            "left": null,
            "margin": null,
            "max_height": null,
            "max_width": null,
            "min_height": null,
            "min_width": null,
            "object_fit": null,
            "object_position": null,
            "order": null,
            "overflow": null,
            "overflow_x": null,
            "overflow_y": null,
            "padding": null,
            "right": null,
            "top": null,
            "visibility": null,
            "width": null
          }
        },
        "38087c7993f649f197170416835a3dff": {
          "model_module": "@jupyter-widgets/controls",
          "model_name": "ProgressStyleModel",
          "model_module_version": "1.5.0",
          "state": {
            "_model_module": "@jupyter-widgets/controls",
            "_model_module_version": "1.5.0",
            "_model_name": "ProgressStyleModel",
            "_view_count": null,
            "_view_module": "@jupyter-widgets/base",
            "_view_module_version": "1.2.0",
            "_view_name": "StyleView",
            "bar_color": null,
            "description_width": ""
          }
        },
        "c0469e4ba055447898afce27c18de833": {
          "model_module": "@jupyter-widgets/base",
          "model_name": "LayoutModel",
          "model_module_version": "1.2.0",
          "state": {
            "_model_module": "@jupyter-widgets/base",
            "_model_module_version": "1.2.0",
            "_model_name": "LayoutModel",
            "_view_count": null,
            "_view_module": "@jupyter-widgets/base",
            "_view_module_version": "1.2.0",
            "_view_name": "LayoutView",
            "align_content": null,
            "align_items": null,
            "align_self": null,
            "border": null,
            "bottom": null,
            "display": null,
            "flex": null,
            "flex_flow": null,
            "grid_area": null,
            "grid_auto_columns": null,
            "grid_auto_flow": null,
            "grid_auto_rows": null,
            "grid_column": null,
            "grid_gap": null,
            "grid_row": null,
            "grid_template_areas": null,
            "grid_template_columns": null,
            "grid_template_rows": null,
            "height": null,
            "justify_content": null,
            "justify_items": null,
            "left": null,
            "margin": null,
            "max_height": null,
            "max_width": null,
            "min_height": null,
            "min_width": null,
            "object_fit": null,
            "object_position": null,
            "order": null,
            "overflow": null,
            "overflow_x": null,
            "overflow_y": null,
            "padding": null,
            "right": null,
            "top": null,
            "visibility": null,
            "width": null
          }
        },
        "fbacb00173db49c5b39396d2fd8c15f5": {
          "model_module": "@jupyter-widgets/controls",
          "model_name": "DescriptionStyleModel",
          "model_module_version": "1.5.0",
          "state": {
            "_model_module": "@jupyter-widgets/controls",
            "_model_module_version": "1.5.0",
            "_model_name": "DescriptionStyleModel",
            "_view_count": null,
            "_view_module": "@jupyter-widgets/base",
            "_view_module_version": "1.2.0",
            "_view_name": "StyleView",
            "description_width": ""
          }
        },
        "598a888131d641d1a719af7beb2e7ec2": {
          "model_module": "@jupyter-widgets/controls",
          "model_name": "HBoxModel",
          "model_module_version": "1.5.0",
          "state": {
            "_dom_classes": [],
            "_model_module": "@jupyter-widgets/controls",
            "_model_module_version": "1.5.0",
            "_model_name": "HBoxModel",
            "_view_count": null,
            "_view_module": "@jupyter-widgets/controls",
            "_view_module_version": "1.5.0",
            "_view_name": "HBoxView",
            "box_style": "",
            "children": [
              "IPY_MODEL_e00e3653df66464ca622baa952c8a479",
              "IPY_MODEL_6dab27c85c3347b6bdc81599951551c8",
              "IPY_MODEL_403428e52b3d4800b1921a0dd77d5578"
            ],
            "layout": "IPY_MODEL_4ee05a9b9c0f46738f3e89fc19629506"
          }
        },
        "e00e3653df66464ca622baa952c8a479": {
          "model_module": "@jupyter-widgets/controls",
          "model_name": "HTMLModel",
          "model_module_version": "1.5.0",
          "state": {
            "_dom_classes": [],
            "_model_module": "@jupyter-widgets/controls",
            "_model_module_version": "1.5.0",
            "_model_name": "HTMLModel",
            "_view_count": null,
            "_view_module": "@jupyter-widgets/controls",
            "_view_module_version": "1.5.0",
            "_view_name": "HTMLView",
            "description": "",
            "description_tooltip": null,
            "layout": "IPY_MODEL_7706967ce4ac4f66a0da568eb38222ad",
            "placeholder": "​",
            "style": "IPY_MODEL_0cd447a1c2294624a381bda1f622e6db",
            "value": "events.out.tfevents.1715835138.58394d5d4d26.4795.0: 100%"
          }
        },
        "6dab27c85c3347b6bdc81599951551c8": {
          "model_module": "@jupyter-widgets/controls",
          "model_name": "FloatProgressModel",
          "model_module_version": "1.5.0",
          "state": {
            "_dom_classes": [],
            "_model_module": "@jupyter-widgets/controls",
            "_model_module_version": "1.5.0",
            "_model_name": "FloatProgressModel",
            "_view_count": null,
            "_view_module": "@jupyter-widgets/controls",
            "_view_module_version": "1.5.0",
            "_view_name": "ProgressView",
            "bar_style": "success",
            "description": "",
            "description_tooltip": null,
            "layout": "IPY_MODEL_cb04c8669b0f4878a5805836e51f4071",
            "max": 11261,
            "min": 0,
            "orientation": "horizontal",
            "style": "IPY_MODEL_b3cbaf78eb2e476c8ad9cde83e18715a",
            "value": 11261
          }
        },
        "403428e52b3d4800b1921a0dd77d5578": {
          "model_module": "@jupyter-widgets/controls",
          "model_name": "HTMLModel",
          "model_module_version": "1.5.0",
          "state": {
            "_dom_classes": [],
            "_model_module": "@jupyter-widgets/controls",
            "_model_module_version": "1.5.0",
            "_model_name": "HTMLModel",
            "_view_count": null,
            "_view_module": "@jupyter-widgets/controls",
            "_view_module_version": "1.5.0",
            "_view_name": "HTMLView",
            "description": "",
            "description_tooltip": null,
            "layout": "IPY_MODEL_6d3038a607044fab9cff3227d6534857",
            "placeholder": "​",
            "style": "IPY_MODEL_7e5da3f5af41469ea08f611bd74a60e7",
            "value": " 11.3k/11.3k [00:00&lt;00:00, 36.3kB/s]"
          }
        },
        "4ee05a9b9c0f46738f3e89fc19629506": {
          "model_module": "@jupyter-widgets/base",
          "model_name": "LayoutModel",
          "model_module_version": "1.2.0",
          "state": {
            "_model_module": "@jupyter-widgets/base",
            "_model_module_version": "1.2.0",
            "_model_name": "LayoutModel",
            "_view_count": null,
            "_view_module": "@jupyter-widgets/base",
            "_view_module_version": "1.2.0",
            "_view_name": "LayoutView",
            "align_content": null,
            "align_items": null,
            "align_self": null,
            "border": null,
            "bottom": null,
            "display": null,
            "flex": null,
            "flex_flow": null,
            "grid_area": null,
            "grid_auto_columns": null,
            "grid_auto_flow": null,
            "grid_auto_rows": null,
            "grid_column": null,
            "grid_gap": null,
            "grid_row": null,
            "grid_template_areas": null,
            "grid_template_columns": null,
            "grid_template_rows": null,
            "height": null,
            "justify_content": null,
            "justify_items": null,
            "left": null,
            "margin": null,
            "max_height": null,
            "max_width": null,
            "min_height": null,
            "min_width": null,
            "object_fit": null,
            "object_position": null,
            "order": null,
            "overflow": null,
            "overflow_x": null,
            "overflow_y": null,
            "padding": null,
            "right": null,
            "top": null,
            "visibility": null,
            "width": null
          }
        },
        "7706967ce4ac4f66a0da568eb38222ad": {
          "model_module": "@jupyter-widgets/base",
          "model_name": "LayoutModel",
          "model_module_version": "1.2.0",
          "state": {
            "_model_module": "@jupyter-widgets/base",
            "_model_module_version": "1.2.0",
            "_model_name": "LayoutModel",
            "_view_count": null,
            "_view_module": "@jupyter-widgets/base",
            "_view_module_version": "1.2.0",
            "_view_name": "LayoutView",
            "align_content": null,
            "align_items": null,
            "align_self": null,
            "border": null,
            "bottom": null,
            "display": null,
            "flex": null,
            "flex_flow": null,
            "grid_area": null,
            "grid_auto_columns": null,
            "grid_auto_flow": null,
            "grid_auto_rows": null,
            "grid_column": null,
            "grid_gap": null,
            "grid_row": null,
            "grid_template_areas": null,
            "grid_template_columns": null,
            "grid_template_rows": null,
            "height": null,
            "justify_content": null,
            "justify_items": null,
            "left": null,
            "margin": null,
            "max_height": null,
            "max_width": null,
            "min_height": null,
            "min_width": null,
            "object_fit": null,
            "object_position": null,
            "order": null,
            "overflow": null,
            "overflow_x": null,
            "overflow_y": null,
            "padding": null,
            "right": null,
            "top": null,
            "visibility": null,
            "width": null
          }
        },
        "0cd447a1c2294624a381bda1f622e6db": {
          "model_module": "@jupyter-widgets/controls",
          "model_name": "DescriptionStyleModel",
          "model_module_version": "1.5.0",
          "state": {
            "_model_module": "@jupyter-widgets/controls",
            "_model_module_version": "1.5.0",
            "_model_name": "DescriptionStyleModel",
            "_view_count": null,
            "_view_module": "@jupyter-widgets/base",
            "_view_module_version": "1.2.0",
            "_view_name": "StyleView",
            "description_width": ""
          }
        },
        "cb04c8669b0f4878a5805836e51f4071": {
          "model_module": "@jupyter-widgets/base",
          "model_name": "LayoutModel",
          "model_module_version": "1.2.0",
          "state": {
            "_model_module": "@jupyter-widgets/base",
            "_model_module_version": "1.2.0",
            "_model_name": "LayoutModel",
            "_view_count": null,
            "_view_module": "@jupyter-widgets/base",
            "_view_module_version": "1.2.0",
            "_view_name": "LayoutView",
            "align_content": null,
            "align_items": null,
            "align_self": null,
            "border": null,
            "bottom": null,
            "display": null,
            "flex": null,
            "flex_flow": null,
            "grid_area": null,
            "grid_auto_columns": null,
            "grid_auto_flow": null,
            "grid_auto_rows": null,
            "grid_column": null,
            "grid_gap": null,
            "grid_row": null,
            "grid_template_areas": null,
            "grid_template_columns": null,
            "grid_template_rows": null,
            "height": null,
            "justify_content": null,
            "justify_items": null,
            "left": null,
            "margin": null,
            "max_height": null,
            "max_width": null,
            "min_height": null,
            "min_width": null,
            "object_fit": null,
            "object_position": null,
            "order": null,
            "overflow": null,
            "overflow_x": null,
            "overflow_y": null,
            "padding": null,
            "right": null,
            "top": null,
            "visibility": null,
            "width": null
          }
        },
        "b3cbaf78eb2e476c8ad9cde83e18715a": {
          "model_module": "@jupyter-widgets/controls",
          "model_name": "ProgressStyleModel",
          "model_module_version": "1.5.0",
          "state": {
            "_model_module": "@jupyter-widgets/controls",
            "_model_module_version": "1.5.0",
            "_model_name": "ProgressStyleModel",
            "_view_count": null,
            "_view_module": "@jupyter-widgets/base",
            "_view_module_version": "1.2.0",
            "_view_name": "StyleView",
            "bar_color": null,
            "description_width": ""
          }
        },
        "6d3038a607044fab9cff3227d6534857": {
          "model_module": "@jupyter-widgets/base",
          "model_name": "LayoutModel",
          "model_module_version": "1.2.0",
          "state": {
            "_model_module": "@jupyter-widgets/base",
            "_model_module_version": "1.2.0",
            "_model_name": "LayoutModel",
            "_view_count": null,
            "_view_module": "@jupyter-widgets/base",
            "_view_module_version": "1.2.0",
            "_view_name": "LayoutView",
            "align_content": null,
            "align_items": null,
            "align_self": null,
            "border": null,
            "bottom": null,
            "display": null,
            "flex": null,
            "flex_flow": null,
            "grid_area": null,
            "grid_auto_columns": null,
            "grid_auto_flow": null,
            "grid_auto_rows": null,
            "grid_column": null,
            "grid_gap": null,
            "grid_row": null,
            "grid_template_areas": null,
            "grid_template_columns": null,
            "grid_template_rows": null,
            "height": null,
            "justify_content": null,
            "justify_items": null,
            "left": null,
            "margin": null,
            "max_height": null,
            "max_width": null,
            "min_height": null,
            "min_width": null,
            "object_fit": null,
            "object_position": null,
            "order": null,
            "overflow": null,
            "overflow_x": null,
            "overflow_y": null,
            "padding": null,
            "right": null,
            "top": null,
            "visibility": null,
            "width": null
          }
        },
        "7e5da3f5af41469ea08f611bd74a60e7": {
          "model_module": "@jupyter-widgets/controls",
          "model_name": "DescriptionStyleModel",
          "model_module_version": "1.5.0",
          "state": {
            "_model_module": "@jupyter-widgets/controls",
            "_model_module_version": "1.5.0",
            "_model_name": "DescriptionStyleModel",
            "_view_count": null,
            "_view_module": "@jupyter-widgets/base",
            "_view_module_version": "1.2.0",
            "_view_name": "StyleView",
            "description_width": ""
          }
        },
        "7d07c517e7864fb78da86fb8f2d1157a": {
          "model_module": "@jupyter-widgets/controls",
          "model_name": "HBoxModel",
          "model_module_version": "1.5.0",
          "state": {
            "_dom_classes": [],
            "_model_module": "@jupyter-widgets/controls",
            "_model_module_version": "1.5.0",
            "_model_name": "HBoxModel",
            "_view_count": null,
            "_view_module": "@jupyter-widgets/controls",
            "_view_module_version": "1.5.0",
            "_view_name": "HBoxView",
            "box_style": "",
            "children": [
              "IPY_MODEL_1ab7a7d0767d4c59bc0eda5aae6727f5",
              "IPY_MODEL_247ee3a8150a482c8a19c47967f5b195",
              "IPY_MODEL_aa4e56610cda4756b907264580991fb4"
            ],
            "layout": "IPY_MODEL_1375ef11df234e4eb4f1cfd136cb2d48"
          }
        },
        "1ab7a7d0767d4c59bc0eda5aae6727f5": {
          "model_module": "@jupyter-widgets/controls",
          "model_name": "HTMLModel",
          "model_module_version": "1.5.0",
          "state": {
            "_dom_classes": [],
            "_model_module": "@jupyter-widgets/controls",
            "_model_module_version": "1.5.0",
            "_model_name": "HTMLModel",
            "_view_count": null,
            "_view_module": "@jupyter-widgets/controls",
            "_view_module_version": "1.5.0",
            "_view_name": "HTMLView",
            "description": "",
            "description_tooltip": null,
            "layout": "IPY_MODEL_6aece64d1ae941a9b3f815362859b5ea",
            "placeholder": "​",
            "style": "IPY_MODEL_4ef38fa2c6524ae1b559d3cc316211e6",
            "value": "Upload 5 LFS files: 100%"
          }
        },
        "247ee3a8150a482c8a19c47967f5b195": {
          "model_module": "@jupyter-widgets/controls",
          "model_name": "FloatProgressModel",
          "model_module_version": "1.5.0",
          "state": {
            "_dom_classes": [],
            "_model_module": "@jupyter-widgets/controls",
            "_model_module_version": "1.5.0",
            "_model_name": "FloatProgressModel",
            "_view_count": null,
            "_view_module": "@jupyter-widgets/controls",
            "_view_module_version": "1.5.0",
            "_view_name": "ProgressView",
            "bar_style": "success",
            "description": "",
            "description_tooltip": null,
            "layout": "IPY_MODEL_f78b6e0c2aa946f591a9457240fe65f5",
            "max": 5,
            "min": 0,
            "orientation": "horizontal",
            "style": "IPY_MODEL_dcbdb9bb7c874388924af81742229f8e",
            "value": 5
          }
        },
        "aa4e56610cda4756b907264580991fb4": {
          "model_module": "@jupyter-widgets/controls",
          "model_name": "HTMLModel",
          "model_module_version": "1.5.0",
          "state": {
            "_dom_classes": [],
            "_model_module": "@jupyter-widgets/controls",
            "_model_module_version": "1.5.0",
            "_model_name": "HTMLModel",
            "_view_count": null,
            "_view_module": "@jupyter-widgets/controls",
            "_view_module_version": "1.5.0",
            "_view_name": "HTMLView",
            "description": "",
            "description_tooltip": null,
            "layout": "IPY_MODEL_181fff89d17f4b95afe7b1f5920d2e90",
            "placeholder": "​",
            "style": "IPY_MODEL_2d6a8fe9a9c642d0ac627e25a45854dc",
            "value": " 5/5 [00:21&lt;00:00, 21.97s/it]"
          }
        },
        "1375ef11df234e4eb4f1cfd136cb2d48": {
          "model_module": "@jupyter-widgets/base",
          "model_name": "LayoutModel",
          "model_module_version": "1.2.0",
          "state": {
            "_model_module": "@jupyter-widgets/base",
            "_model_module_version": "1.2.0",
            "_model_name": "LayoutModel",
            "_view_count": null,
            "_view_module": "@jupyter-widgets/base",
            "_view_module_version": "1.2.0",
            "_view_name": "LayoutView",
            "align_content": null,
            "align_items": null,
            "align_self": null,
            "border": null,
            "bottom": null,
            "display": null,
            "flex": null,
            "flex_flow": null,
            "grid_area": null,
            "grid_auto_columns": null,
            "grid_auto_flow": null,
            "grid_auto_rows": null,
            "grid_column": null,
            "grid_gap": null,
            "grid_row": null,
            "grid_template_areas": null,
            "grid_template_columns": null,
            "grid_template_rows": null,
            "height": null,
            "justify_content": null,
            "justify_items": null,
            "left": null,
            "margin": null,
            "max_height": null,
            "max_width": null,
            "min_height": null,
            "min_width": null,
            "object_fit": null,
            "object_position": null,
            "order": null,
            "overflow": null,
            "overflow_x": null,
            "overflow_y": null,
            "padding": null,
            "right": null,
            "top": null,
            "visibility": null,
            "width": null
          }
        },
        "6aece64d1ae941a9b3f815362859b5ea": {
          "model_module": "@jupyter-widgets/base",
          "model_name": "LayoutModel",
          "model_module_version": "1.2.0",
          "state": {
            "_model_module": "@jupyter-widgets/base",
            "_model_module_version": "1.2.0",
            "_model_name": "LayoutModel",
            "_view_count": null,
            "_view_module": "@jupyter-widgets/base",
            "_view_module_version": "1.2.0",
            "_view_name": "LayoutView",
            "align_content": null,
            "align_items": null,
            "align_self": null,
            "border": null,
            "bottom": null,
            "display": null,
            "flex": null,
            "flex_flow": null,
            "grid_area": null,
            "grid_auto_columns": null,
            "grid_auto_flow": null,
            "grid_auto_rows": null,
            "grid_column": null,
            "grid_gap": null,
            "grid_row": null,
            "grid_template_areas": null,
            "grid_template_columns": null,
            "grid_template_rows": null,
            "height": null,
            "justify_content": null,
            "justify_items": null,
            "left": null,
            "margin": null,
            "max_height": null,
            "max_width": null,
            "min_height": null,
            "min_width": null,
            "object_fit": null,
            "object_position": null,
            "order": null,
            "overflow": null,
            "overflow_x": null,
            "overflow_y": null,
            "padding": null,
            "right": null,
            "top": null,
            "visibility": null,
            "width": null
          }
        },
        "4ef38fa2c6524ae1b559d3cc316211e6": {
          "model_module": "@jupyter-widgets/controls",
          "model_name": "DescriptionStyleModel",
          "model_module_version": "1.5.0",
          "state": {
            "_model_module": "@jupyter-widgets/controls",
            "_model_module_version": "1.5.0",
            "_model_name": "DescriptionStyleModel",
            "_view_count": null,
            "_view_module": "@jupyter-widgets/base",
            "_view_module_version": "1.2.0",
            "_view_name": "StyleView",
            "description_width": ""
          }
        },
        "f78b6e0c2aa946f591a9457240fe65f5": {
          "model_module": "@jupyter-widgets/base",
          "model_name": "LayoutModel",
          "model_module_version": "1.2.0",
          "state": {
            "_model_module": "@jupyter-widgets/base",
            "_model_module_version": "1.2.0",
            "_model_name": "LayoutModel",
            "_view_count": null,
            "_view_module": "@jupyter-widgets/base",
            "_view_module_version": "1.2.0",
            "_view_name": "LayoutView",
            "align_content": null,
            "align_items": null,
            "align_self": null,
            "border": null,
            "bottom": null,
            "display": null,
            "flex": null,
            "flex_flow": null,
            "grid_area": null,
            "grid_auto_columns": null,
            "grid_auto_flow": null,
            "grid_auto_rows": null,
            "grid_column": null,
            "grid_gap": null,
            "grid_row": null,
            "grid_template_areas": null,
            "grid_template_columns": null,
            "grid_template_rows": null,
            "height": null,
            "justify_content": null,
            "justify_items": null,
            "left": null,
            "margin": null,
            "max_height": null,
            "max_width": null,
            "min_height": null,
            "min_width": null,
            "object_fit": null,
            "object_position": null,
            "order": null,
            "overflow": null,
            "overflow_x": null,
            "overflow_y": null,
            "padding": null,
            "right": null,
            "top": null,
            "visibility": null,
            "width": null
          }
        },
        "dcbdb9bb7c874388924af81742229f8e": {
          "model_module": "@jupyter-widgets/controls",
          "model_name": "ProgressStyleModel",
          "model_module_version": "1.5.0",
          "state": {
            "_model_module": "@jupyter-widgets/controls",
            "_model_module_version": "1.5.0",
            "_model_name": "ProgressStyleModel",
            "_view_count": null,
            "_view_module": "@jupyter-widgets/base",
            "_view_module_version": "1.2.0",
            "_view_name": "StyleView",
            "bar_color": null,
            "description_width": ""
          }
        },
        "181fff89d17f4b95afe7b1f5920d2e90": {
          "model_module": "@jupyter-widgets/base",
          "model_name": "LayoutModel",
          "model_module_version": "1.2.0",
          "state": {
            "_model_module": "@jupyter-widgets/base",
            "_model_module_version": "1.2.0",
            "_model_name": "LayoutModel",
            "_view_count": null,
            "_view_module": "@jupyter-widgets/base",
            "_view_module_version": "1.2.0",
            "_view_name": "LayoutView",
            "align_content": null,
            "align_items": null,
            "align_self": null,
            "border": null,
            "bottom": null,
            "display": null,
            "flex": null,
            "flex_flow": null,
            "grid_area": null,
            "grid_auto_columns": null,
            "grid_auto_flow": null,
            "grid_auto_rows": null,
            "grid_column": null,
            "grid_gap": null,
            "grid_row": null,
            "grid_template_areas": null,
            "grid_template_columns": null,
            "grid_template_rows": null,
            "height": null,
            "justify_content": null,
            "justify_items": null,
            "left": null,
            "margin": null,
            "max_height": null,
            "max_width": null,
            "min_height": null,
            "min_width": null,
            "object_fit": null,
            "object_position": null,
            "order": null,
            "overflow": null,
            "overflow_x": null,
            "overflow_y": null,
            "padding": null,
            "right": null,
            "top": null,
            "visibility": null,
            "width": null
          }
        },
        "2d6a8fe9a9c642d0ac627e25a45854dc": {
          "model_module": "@jupyter-widgets/controls",
          "model_name": "DescriptionStyleModel",
          "model_module_version": "1.5.0",
          "state": {
            "_model_module": "@jupyter-widgets/controls",
            "_model_module_version": "1.5.0",
            "_model_name": "DescriptionStyleModel",
            "_view_count": null,
            "_view_module": "@jupyter-widgets/base",
            "_view_module_version": "1.2.0",
            "_view_name": "StyleView",
            "description_width": ""
          }
        }
      }
    }
  },
  "cells": [
    {
      "cell_type": "markdown",
      "metadata": {
        "id": "view-in-github",
        "colab_type": "text"
      },
      "source": [
        "<a href=\"https://colab.research.google.com/github/amit5-ai/bert_fine_tune_pytorch/blob/main/pytorch_fine_tune.ipynb\" target=\"_parent\"><img src=\"https://colab.research.google.com/assets/colab-badge.svg\" alt=\"Open In Colab\"/></a>"
      ]
    },
    {
      "cell_type": "markdown",
      "source": [
        "Fine-tune a pretrained model with Transformers Trainer."
      ],
      "metadata": {
        "id": "mNgoReWsGzOo"
      }
    },
    {
      "cell_type": "markdown",
      "source": [
        "# packages import and install"
      ],
      "metadata": {
        "id": "2XfxpUncnl0c"
      }
    },
    {
      "cell_type": "code",
      "execution_count": null,
      "metadata": {
        "colab": {
          "base_uri": "https://localhost:8080/"
        },
        "id": "6hwTnsxpvjDa",
        "outputId": "5214a61a-c71e-4d91-8ba5-3aab64faf314",
        "collapsed": true
      },
      "outputs": [
        {
          "output_type": "stream",
          "name": "stdout",
          "text": [
            "Requirement already satisfied: datasets in /usr/local/lib/python3.10/dist-packages (2.19.1)\n",
            "Requirement already satisfied: filelock in /usr/local/lib/python3.10/dist-packages (from datasets) (3.14.0)\n",
            "Requirement already satisfied: numpy>=1.17 in /usr/local/lib/python3.10/dist-packages (from datasets) (1.25.2)\n",
            "Requirement already satisfied: pyarrow>=12.0.0 in /usr/local/lib/python3.10/dist-packages (from datasets) (14.0.2)\n",
            "Requirement already satisfied: pyarrow-hotfix in /usr/local/lib/python3.10/dist-packages (from datasets) (0.6)\n",
            "Requirement already satisfied: dill<0.3.9,>=0.3.0 in /usr/local/lib/python3.10/dist-packages (from datasets) (0.3.8)\n",
            "Requirement already satisfied: pandas in /usr/local/lib/python3.10/dist-packages (from datasets) (2.0.3)\n",
            "Requirement already satisfied: requests>=2.19.0 in /usr/local/lib/python3.10/dist-packages (from datasets) (2.31.0)\n",
            "Requirement already satisfied: tqdm>=4.62.1 in /usr/local/lib/python3.10/dist-packages (from datasets) (4.66.4)\n",
            "Requirement already satisfied: xxhash in /usr/local/lib/python3.10/dist-packages (from datasets) (3.4.1)\n",
            "Requirement already satisfied: multiprocess in /usr/local/lib/python3.10/dist-packages (from datasets) (0.70.16)\n",
            "Requirement already satisfied: fsspec[http]<=2024.3.1,>=2023.1.0 in /usr/local/lib/python3.10/dist-packages (from datasets) (2023.6.0)\n",
            "Requirement already satisfied: aiohttp in /usr/local/lib/python3.10/dist-packages (from datasets) (3.9.5)\n",
            "Requirement already satisfied: huggingface-hub>=0.21.2 in /usr/local/lib/python3.10/dist-packages (from datasets) (0.23.0)\n",
            "Requirement already satisfied: packaging in /usr/local/lib/python3.10/dist-packages (from datasets) (24.0)\n",
            "Requirement already satisfied: pyyaml>=5.1 in /usr/local/lib/python3.10/dist-packages (from datasets) (6.0.1)\n",
            "Requirement already satisfied: aiosignal>=1.1.2 in /usr/local/lib/python3.10/dist-packages (from aiohttp->datasets) (1.3.1)\n",
            "Requirement already satisfied: attrs>=17.3.0 in /usr/local/lib/python3.10/dist-packages (from aiohttp->datasets) (23.2.0)\n",
            "Requirement already satisfied: frozenlist>=1.1.1 in /usr/local/lib/python3.10/dist-packages (from aiohttp->datasets) (1.4.1)\n",
            "Requirement already satisfied: multidict<7.0,>=4.5 in /usr/local/lib/python3.10/dist-packages (from aiohttp->datasets) (6.0.5)\n",
            "Requirement already satisfied: yarl<2.0,>=1.0 in /usr/local/lib/python3.10/dist-packages (from aiohttp->datasets) (1.9.4)\n",
            "Requirement already satisfied: async-timeout<5.0,>=4.0 in /usr/local/lib/python3.10/dist-packages (from aiohttp->datasets) (4.0.3)\n",
            "Requirement already satisfied: typing-extensions>=3.7.4.3 in /usr/local/lib/python3.10/dist-packages (from huggingface-hub>=0.21.2->datasets) (4.11.0)\n",
            "Requirement already satisfied: charset-normalizer<4,>=2 in /usr/local/lib/python3.10/dist-packages (from requests>=2.19.0->datasets) (3.3.2)\n",
            "Requirement already satisfied: idna<4,>=2.5 in /usr/local/lib/python3.10/dist-packages (from requests>=2.19.0->datasets) (3.7)\n",
            "Requirement already satisfied: urllib3<3,>=1.21.1 in /usr/local/lib/python3.10/dist-packages (from requests>=2.19.0->datasets) (2.0.7)\n",
            "Requirement already satisfied: certifi>=2017.4.17 in /usr/local/lib/python3.10/dist-packages (from requests>=2.19.0->datasets) (2024.2.2)\n",
            "Requirement already satisfied: python-dateutil>=2.8.2 in /usr/local/lib/python3.10/dist-packages (from pandas->datasets) (2.8.2)\n",
            "Requirement already satisfied: pytz>=2020.1 in /usr/local/lib/python3.10/dist-packages (from pandas->datasets) (2023.4)\n",
            "Requirement already satisfied: tzdata>=2022.1 in /usr/local/lib/python3.10/dist-packages (from pandas->datasets) (2024.1)\n",
            "Requirement already satisfied: six>=1.5 in /usr/local/lib/python3.10/dist-packages (from python-dateutil>=2.8.2->pandas->datasets) (1.16.0)\n",
            "Requirement already satisfied: transformers in /usr/local/lib/python3.10/dist-packages (4.40.2)\n",
            "Requirement already satisfied: filelock in /usr/local/lib/python3.10/dist-packages (from transformers) (3.14.0)\n",
            "Requirement already satisfied: huggingface-hub<1.0,>=0.19.3 in /usr/local/lib/python3.10/dist-packages (from transformers) (0.23.0)\n",
            "Requirement already satisfied: numpy>=1.17 in /usr/local/lib/python3.10/dist-packages (from transformers) (1.25.2)\n",
            "Requirement already satisfied: packaging>=20.0 in /usr/local/lib/python3.10/dist-packages (from transformers) (24.0)\n",
            "Requirement already satisfied: pyyaml>=5.1 in /usr/local/lib/python3.10/dist-packages (from transformers) (6.0.1)\n",
            "Requirement already satisfied: regex!=2019.12.17 in /usr/local/lib/python3.10/dist-packages (from transformers) (2023.12.25)\n",
            "Requirement already satisfied: requests in /usr/local/lib/python3.10/dist-packages (from transformers) (2.31.0)\n",
            "Requirement already satisfied: tokenizers<0.20,>=0.19 in /usr/local/lib/python3.10/dist-packages (from transformers) (0.19.1)\n",
            "Requirement already satisfied: safetensors>=0.4.1 in /usr/local/lib/python3.10/dist-packages (from transformers) (0.4.3)\n",
            "Requirement already satisfied: tqdm>=4.27 in /usr/local/lib/python3.10/dist-packages (from transformers) (4.66.4)\n",
            "Requirement already satisfied: fsspec>=2023.5.0 in /usr/local/lib/python3.10/dist-packages (from huggingface-hub<1.0,>=0.19.3->transformers) (2023.6.0)\n",
            "Requirement already satisfied: typing-extensions>=3.7.4.3 in /usr/local/lib/python3.10/dist-packages (from huggingface-hub<1.0,>=0.19.3->transformers) (4.11.0)\n",
            "Requirement already satisfied: charset-normalizer<4,>=2 in /usr/local/lib/python3.10/dist-packages (from requests->transformers) (3.3.2)\n",
            "Requirement already satisfied: idna<4,>=2.5 in /usr/local/lib/python3.10/dist-packages (from requests->transformers) (3.7)\n",
            "Requirement already satisfied: urllib3<3,>=1.21.1 in /usr/local/lib/python3.10/dist-packages (from requests->transformers) (2.0.7)\n",
            "Requirement already satisfied: certifi>=2017.4.17 in /usr/local/lib/python3.10/dist-packages (from requests->transformers) (2024.2.2)\n",
            "Requirement already satisfied: evaluate in /usr/local/lib/python3.10/dist-packages (0.4.2)\n",
            "Requirement already satisfied: datasets>=2.0.0 in /usr/local/lib/python3.10/dist-packages (from evaluate) (2.19.1)\n",
            "Requirement already satisfied: numpy>=1.17 in /usr/local/lib/python3.10/dist-packages (from evaluate) (1.25.2)\n",
            "Requirement already satisfied: dill in /usr/local/lib/python3.10/dist-packages (from evaluate) (0.3.8)\n",
            "Requirement already satisfied: pandas in /usr/local/lib/python3.10/dist-packages (from evaluate) (2.0.3)\n",
            "Requirement already satisfied: requests>=2.19.0 in /usr/local/lib/python3.10/dist-packages (from evaluate) (2.31.0)\n",
            "Requirement already satisfied: tqdm>=4.62.1 in /usr/local/lib/python3.10/dist-packages (from evaluate) (4.66.4)\n",
            "Requirement already satisfied: xxhash in /usr/local/lib/python3.10/dist-packages (from evaluate) (3.4.1)\n",
            "Requirement already satisfied: multiprocess in /usr/local/lib/python3.10/dist-packages (from evaluate) (0.70.16)\n",
            "Requirement already satisfied: fsspec[http]>=2021.05.0 in /usr/local/lib/python3.10/dist-packages (from evaluate) (2023.6.0)\n",
            "Requirement already satisfied: huggingface-hub>=0.7.0 in /usr/local/lib/python3.10/dist-packages (from evaluate) (0.23.0)\n",
            "Requirement already satisfied: packaging in /usr/local/lib/python3.10/dist-packages (from evaluate) (24.0)\n",
            "Requirement already satisfied: filelock in /usr/local/lib/python3.10/dist-packages (from datasets>=2.0.0->evaluate) (3.14.0)\n",
            "Requirement already satisfied: pyarrow>=12.0.0 in /usr/local/lib/python3.10/dist-packages (from datasets>=2.0.0->evaluate) (14.0.2)\n",
            "Requirement already satisfied: pyarrow-hotfix in /usr/local/lib/python3.10/dist-packages (from datasets>=2.0.0->evaluate) (0.6)\n",
            "Requirement already satisfied: aiohttp in /usr/local/lib/python3.10/dist-packages (from datasets>=2.0.0->evaluate) (3.9.5)\n",
            "Requirement already satisfied: pyyaml>=5.1 in /usr/local/lib/python3.10/dist-packages (from datasets>=2.0.0->evaluate) (6.0.1)\n",
            "Requirement already satisfied: typing-extensions>=3.7.4.3 in /usr/local/lib/python3.10/dist-packages (from huggingface-hub>=0.7.0->evaluate) (4.11.0)\n",
            "Requirement already satisfied: charset-normalizer<4,>=2 in /usr/local/lib/python3.10/dist-packages (from requests>=2.19.0->evaluate) (3.3.2)\n",
            "Requirement already satisfied: idna<4,>=2.5 in /usr/local/lib/python3.10/dist-packages (from requests>=2.19.0->evaluate) (3.7)\n",
            "Requirement already satisfied: urllib3<3,>=1.21.1 in /usr/local/lib/python3.10/dist-packages (from requests>=2.19.0->evaluate) (2.0.7)\n",
            "Requirement already satisfied: certifi>=2017.4.17 in /usr/local/lib/python3.10/dist-packages (from requests>=2.19.0->evaluate) (2024.2.2)\n",
            "Requirement already satisfied: python-dateutil>=2.8.2 in /usr/local/lib/python3.10/dist-packages (from pandas->evaluate) (2.8.2)\n",
            "Requirement already satisfied: pytz>=2020.1 in /usr/local/lib/python3.10/dist-packages (from pandas->evaluate) (2023.4)\n",
            "Requirement already satisfied: tzdata>=2022.1 in /usr/local/lib/python3.10/dist-packages (from pandas->evaluate) (2024.1)\n",
            "Requirement already satisfied: aiosignal>=1.1.2 in /usr/local/lib/python3.10/dist-packages (from aiohttp->datasets>=2.0.0->evaluate) (1.3.1)\n",
            "Requirement already satisfied: attrs>=17.3.0 in /usr/local/lib/python3.10/dist-packages (from aiohttp->datasets>=2.0.0->evaluate) (23.2.0)\n",
            "Requirement already satisfied: frozenlist>=1.1.1 in /usr/local/lib/python3.10/dist-packages (from aiohttp->datasets>=2.0.0->evaluate) (1.4.1)\n",
            "Requirement already satisfied: multidict<7.0,>=4.5 in /usr/local/lib/python3.10/dist-packages (from aiohttp->datasets>=2.0.0->evaluate) (6.0.5)\n",
            "Requirement already satisfied: yarl<2.0,>=1.0 in /usr/local/lib/python3.10/dist-packages (from aiohttp->datasets>=2.0.0->evaluate) (1.9.4)\n",
            "Requirement already satisfied: async-timeout<5.0,>=4.0 in /usr/local/lib/python3.10/dist-packages (from aiohttp->datasets>=2.0.0->evaluate) (4.0.3)\n",
            "Requirement already satisfied: six>=1.5 in /usr/local/lib/python3.10/dist-packages (from python-dateutil>=2.8.2->pandas->evaluate) (1.16.0)\n",
            "Requirement already satisfied: accelerate in /usr/local/lib/python3.10/dist-packages (0.30.1)\n",
            "Requirement already satisfied: numpy>=1.17 in /usr/local/lib/python3.10/dist-packages (from accelerate) (1.25.2)\n",
            "Requirement already satisfied: packaging>=20.0 in /usr/local/lib/python3.10/dist-packages (from accelerate) (24.0)\n",
            "Requirement already satisfied: psutil in /usr/local/lib/python3.10/dist-packages (from accelerate) (5.9.5)\n",
            "Requirement already satisfied: pyyaml in /usr/local/lib/python3.10/dist-packages (from accelerate) (6.0.1)\n",
            "Requirement already satisfied: torch>=1.10.0 in /usr/local/lib/python3.10/dist-packages (from accelerate) (2.2.1+cu121)\n",
            "Requirement already satisfied: huggingface-hub in /usr/local/lib/python3.10/dist-packages (from accelerate) (0.23.0)\n",
            "Requirement already satisfied: safetensors>=0.3.1 in /usr/local/lib/python3.10/dist-packages (from accelerate) (0.4.3)\n",
            "Requirement already satisfied: filelock in /usr/local/lib/python3.10/dist-packages (from torch>=1.10.0->accelerate) (3.14.0)\n",
            "Requirement already satisfied: typing-extensions>=4.8.0 in /usr/local/lib/python3.10/dist-packages (from torch>=1.10.0->accelerate) (4.11.0)\n",
            "Requirement already satisfied: sympy in /usr/local/lib/python3.10/dist-packages (from torch>=1.10.0->accelerate) (1.12)\n",
            "Requirement already satisfied: networkx in /usr/local/lib/python3.10/dist-packages (from torch>=1.10.0->accelerate) (3.3)\n",
            "Requirement already satisfied: jinja2 in /usr/local/lib/python3.10/dist-packages (from torch>=1.10.0->accelerate) (3.1.4)\n",
            "Requirement already satisfied: fsspec in /usr/local/lib/python3.10/dist-packages (from torch>=1.10.0->accelerate) (2023.6.0)\n",
            "Requirement already satisfied: nvidia-cuda-nvrtc-cu12==12.1.105 in /usr/local/lib/python3.10/dist-packages (from torch>=1.10.0->accelerate) (12.1.105)\n",
            "Requirement already satisfied: nvidia-cuda-runtime-cu12==12.1.105 in /usr/local/lib/python3.10/dist-packages (from torch>=1.10.0->accelerate) (12.1.105)\n",
            "Requirement already satisfied: nvidia-cuda-cupti-cu12==12.1.105 in /usr/local/lib/python3.10/dist-packages (from torch>=1.10.0->accelerate) (12.1.105)\n",
            "Requirement already satisfied: nvidia-cudnn-cu12==8.9.2.26 in /usr/local/lib/python3.10/dist-packages (from torch>=1.10.0->accelerate) (8.9.2.26)\n",
            "Requirement already satisfied: nvidia-cublas-cu12==12.1.3.1 in /usr/local/lib/python3.10/dist-packages (from torch>=1.10.0->accelerate) (12.1.3.1)\n",
            "Requirement already satisfied: nvidia-cufft-cu12==11.0.2.54 in /usr/local/lib/python3.10/dist-packages (from torch>=1.10.0->accelerate) (11.0.2.54)\n",
            "Requirement already satisfied: nvidia-curand-cu12==10.3.2.106 in /usr/local/lib/python3.10/dist-packages (from torch>=1.10.0->accelerate) (10.3.2.106)\n",
            "Requirement already satisfied: nvidia-cusolver-cu12==11.4.5.107 in /usr/local/lib/python3.10/dist-packages (from torch>=1.10.0->accelerate) (11.4.5.107)\n",
            "Requirement already satisfied: nvidia-cusparse-cu12==12.1.0.106 in /usr/local/lib/python3.10/dist-packages (from torch>=1.10.0->accelerate) (12.1.0.106)\n",
            "Requirement already satisfied: nvidia-nccl-cu12==2.19.3 in /usr/local/lib/python3.10/dist-packages (from torch>=1.10.0->accelerate) (2.19.3)\n",
            "Requirement already satisfied: nvidia-nvtx-cu12==12.1.105 in /usr/local/lib/python3.10/dist-packages (from torch>=1.10.0->accelerate) (12.1.105)\n",
            "Requirement already satisfied: triton==2.2.0 in /usr/local/lib/python3.10/dist-packages (from torch>=1.10.0->accelerate) (2.2.0)\n",
            "Requirement already satisfied: nvidia-nvjitlink-cu12 in /usr/local/lib/python3.10/dist-packages (from nvidia-cusolver-cu12==11.4.5.107->torch>=1.10.0->accelerate) (12.4.127)\n",
            "Requirement already satisfied: requests in /usr/local/lib/python3.10/dist-packages (from huggingface-hub->accelerate) (2.31.0)\n",
            "Requirement already satisfied: tqdm>=4.42.1 in /usr/local/lib/python3.10/dist-packages (from huggingface-hub->accelerate) (4.66.4)\n",
            "Requirement already satisfied: MarkupSafe>=2.0 in /usr/local/lib/python3.10/dist-packages (from jinja2->torch>=1.10.0->accelerate) (2.1.5)\n",
            "Requirement already satisfied: charset-normalizer<4,>=2 in /usr/local/lib/python3.10/dist-packages (from requests->huggingface-hub->accelerate) (3.3.2)\n",
            "Requirement already satisfied: idna<4,>=2.5 in /usr/local/lib/python3.10/dist-packages (from requests->huggingface-hub->accelerate) (3.7)\n",
            "Requirement already satisfied: urllib3<3,>=1.21.1 in /usr/local/lib/python3.10/dist-packages (from requests->huggingface-hub->accelerate) (2.0.7)\n",
            "Requirement already satisfied: certifi>=2017.4.17 in /usr/local/lib/python3.10/dist-packages (from requests->huggingface-hub->accelerate) (2024.2.2)\n",
            "Requirement already satisfied: mpmath>=0.19 in /usr/local/lib/python3.10/dist-packages (from sympy->torch>=1.10.0->accelerate) (1.3.0)\n",
            "Requirement already satisfied: nltk in /usr/local/lib/python3.10/dist-packages (3.8.1)\n",
            "Requirement already satisfied: click in /usr/local/lib/python3.10/dist-packages (from nltk) (8.1.7)\n",
            "Requirement already satisfied: joblib in /usr/local/lib/python3.10/dist-packages (from nltk) (1.4.2)\n",
            "Requirement already satisfied: regex>=2021.8.3 in /usr/local/lib/python3.10/dist-packages (from nltk) (2023.12.25)\n",
            "Requirement already satisfied: tqdm in /usr/local/lib/python3.10/dist-packages (from nltk) (4.66.4)\n",
            "Collecting modelsummary\n",
            "  Downloading modelsummary-1.1.7.tar.gz (11 kB)\n",
            "  Preparing metadata (setup.py) ... \u001b[?25l\u001b[?25hdone\n",
            "Requirement already satisfied: tqdm in /usr/local/lib/python3.10/dist-packages (from modelsummary) (4.66.4)\n",
            "Requirement already satisfied: torch in /usr/local/lib/python3.10/dist-packages (from modelsummary) (2.2.1+cu121)\n",
            "Requirement already satisfied: numpy in /usr/local/lib/python3.10/dist-packages (from modelsummary) (1.25.2)\n",
            "Requirement already satisfied: filelock in /usr/local/lib/python3.10/dist-packages (from torch->modelsummary) (3.14.0)\n",
            "Requirement already satisfied: typing-extensions>=4.8.0 in /usr/local/lib/python3.10/dist-packages (from torch->modelsummary) (4.11.0)\n",
            "Requirement already satisfied: sympy in /usr/local/lib/python3.10/dist-packages (from torch->modelsummary) (1.12)\n",
            "Requirement already satisfied: networkx in /usr/local/lib/python3.10/dist-packages (from torch->modelsummary) (3.3)\n",
            "Requirement already satisfied: jinja2 in /usr/local/lib/python3.10/dist-packages (from torch->modelsummary) (3.1.4)\n",
            "Requirement already satisfied: fsspec in /usr/local/lib/python3.10/dist-packages (from torch->modelsummary) (2023.6.0)\n",
            "Requirement already satisfied: nvidia-cuda-nvrtc-cu12==12.1.105 in /usr/local/lib/python3.10/dist-packages (from torch->modelsummary) (12.1.105)\n",
            "Requirement already satisfied: nvidia-cuda-runtime-cu12==12.1.105 in /usr/local/lib/python3.10/dist-packages (from torch->modelsummary) (12.1.105)\n",
            "Requirement already satisfied: nvidia-cuda-cupti-cu12==12.1.105 in /usr/local/lib/python3.10/dist-packages (from torch->modelsummary) (12.1.105)\n",
            "Requirement already satisfied: nvidia-cudnn-cu12==8.9.2.26 in /usr/local/lib/python3.10/dist-packages (from torch->modelsummary) (8.9.2.26)\n",
            "Requirement already satisfied: nvidia-cublas-cu12==12.1.3.1 in /usr/local/lib/python3.10/dist-packages (from torch->modelsummary) (12.1.3.1)\n",
            "Requirement already satisfied: nvidia-cufft-cu12==11.0.2.54 in /usr/local/lib/python3.10/dist-packages (from torch->modelsummary) (11.0.2.54)\n",
            "Requirement already satisfied: nvidia-curand-cu12==10.3.2.106 in /usr/local/lib/python3.10/dist-packages (from torch->modelsummary) (10.3.2.106)\n",
            "Requirement already satisfied: nvidia-cusolver-cu12==11.4.5.107 in /usr/local/lib/python3.10/dist-packages (from torch->modelsummary) (11.4.5.107)\n",
            "Requirement already satisfied: nvidia-cusparse-cu12==12.1.0.106 in /usr/local/lib/python3.10/dist-packages (from torch->modelsummary) (12.1.0.106)\n",
            "Requirement already satisfied: nvidia-nccl-cu12==2.19.3 in /usr/local/lib/python3.10/dist-packages (from torch->modelsummary) (2.19.3)\n",
            "Requirement already satisfied: nvidia-nvtx-cu12==12.1.105 in /usr/local/lib/python3.10/dist-packages (from torch->modelsummary) (12.1.105)\n",
            "Requirement already satisfied: triton==2.2.0 in /usr/local/lib/python3.10/dist-packages (from torch->modelsummary) (2.2.0)\n",
            "Requirement already satisfied: nvidia-nvjitlink-cu12 in /usr/local/lib/python3.10/dist-packages (from nvidia-cusolver-cu12==11.4.5.107->torch->modelsummary) (12.4.127)\n",
            "Requirement already satisfied: MarkupSafe>=2.0 in /usr/local/lib/python3.10/dist-packages (from jinja2->torch->modelsummary) (2.1.5)\n",
            "Requirement already satisfied: mpmath>=0.19 in /usr/local/lib/python3.10/dist-packages (from sympy->torch->modelsummary) (1.3.0)\n",
            "Building wheels for collected packages: modelsummary\n",
            "  Building wheel for modelsummary (setup.py) ... \u001b[?25l\u001b[?25hdone\n",
            "  Created wheel for modelsummary: filename=modelsummary-1.1.7-py3-none-any.whl size=6939 sha256=622314d1423e7727bfb1dd0f8a14d967412343820facb7ae32ff00538abb76bc\n",
            "  Stored in directory: /root/.cache/pip/wheels/22/25/f8/c50d3e8817c926910f8eb760f8ca4e10a854b36218e7553be9\n",
            "Successfully built modelsummary\n",
            "Installing collected packages: modelsummary\n",
            "Successfully installed modelsummary-1.1.7\n"
          ]
        }
      ],
      "source": [
        "!pip install datasets\n",
        "!pip install transformers\n",
        "!pip install evaluate\n",
        "!pip install accelerate\n",
        "!pip install nltk\n",
        "!pip install modelsummary"
      ]
    },
    {
      "cell_type": "code",
      "source": [
        "from datasets import load_dataset\n",
        "from transformers import AutoTokenizer,AutoModelForSequenceClassification,TrainingArguments,Trainer\n",
        "import numpy as np\n",
        "import evaluate\n",
        "import accelerate\n",
        "import string\n",
        "import nltk\n",
        "from nltk.corpus import stopwords\n",
        "nltk.download(\"stopwords\")\n",
        "from sklearn.metrics import classification_report, confusion_matrix\n",
        "import matplotlib.pyplot as plt\n",
        "import seaborn as sns\n",
        "from modelsummary import summary"
      ],
      "metadata": {
        "id": "1ftbnTQGv5ub",
        "colab": {
          "base_uri": "https://localhost:8080/"
        },
        "outputId": "268e7ee3-a1dd-44fa-e7b9-a8bdd9e1327f"
      },
      "execution_count": null,
      "outputs": [
        {
          "output_type": "stream",
          "name": "stderr",
          "text": [
            "[nltk_data] Downloading package stopwords to /root/nltk_data...\n",
            "[nltk_data]   Package stopwords is already up-to-date!\n"
          ]
        }
      ]
    },
    {
      "cell_type": "code",
      "source": [
        "dataset = load_dataset(\"lex_glue\",'ledgar')"
      ],
      "metadata": {
        "colab": {
          "base_uri": "https://localhost:8080/"
        },
        "id": "nPBopS0hv80T",
        "outputId": "47ac1f93-c4ff-46fa-9fa0-d3e7e3378fb2"
      },
      "execution_count": null,
      "outputs": [
        {
          "output_type": "stream",
          "name": "stderr",
          "text": [
            "/usr/local/lib/python3.10/dist-packages/huggingface_hub/utils/_token.py:89: UserWarning: \n",
            "The secret `HF_TOKEN` does not exist in your Colab secrets.\n",
            "To authenticate with the Hugging Face Hub, create a token in your settings tab (https://huggingface.co/settings/tokens), set it as secret in your Google Colab and restart your session.\n",
            "You will be able to reuse this secret in all of your notebooks.\n",
            "Please note that authentication is recommended but still optional to access public models or datasets.\n",
            "  warnings.warn(\n"
          ]
        }
      ]
    },
    {
      "cell_type": "code",
      "source": [
        "dataset[\"train\"][0]"
      ],
      "metadata": {
        "colab": {
          "base_uri": "https://localhost:8080/"
        },
        "id": "H0O2xUYXv-ea",
        "outputId": "2fb0db3f-01de-4b81-c010-6ac88f7c4c7c"
      },
      "execution_count": null,
      "outputs": [
        {
          "output_type": "execute_result",
          "data": {
            "text/plain": [
              "{'text': 'Except as otherwise set forth in this Debenture, the Company, for itself and its legal representatives, successors and assigns, expressly waives presentment, protest, demand, notice of dishonor, notice of nonpayment, notice of maturity, notice of protest, presentment for the purpose of accelerating maturity, and diligence in collection.',\n",
              " 'label': 97}"
            ]
          },
          "metadata": {},
          "execution_count": 6
        }
      ]
    },
    {
      "cell_type": "markdown",
      "source": [
        "# data pre-prcoessing"
      ],
      "metadata": {
        "id": "OD7mnOBunr0t"
      }
    },
    {
      "cell_type": "code",
      "source": [
        "PUNCT_TO_REMOVE = string.punctuation\n",
        "def remove_punctuation(text):\n",
        "    \"\"\"custom function to remove the punctuation\"\"\"\n",
        "    return text.translate(str.maketrans('', '', PUNCT_TO_REMOVE))\n",
        "\n",
        "STOPWORDS = set(stopwords.words('english'))\n",
        "def remove_stopwords(text):\n",
        "    \"\"\"custom function to remove the stopwords\"\"\"\n",
        "    return \" \".join([word for word in str(text).split() if word not in STOPWORDS])"
      ],
      "metadata": {
        "id": "m4VCOrpboDOO"
      },
      "execution_count": null,
      "outputs": []
    },
    {
      "cell_type": "code",
      "source": [
        "def preprocess_function(examples):\n",
        "    examples[\"text\"] = [remove_stopwords(remove_punctuation(x)) for x in examples[\"text\"]]\n",
        "    return examples"
      ],
      "metadata": {
        "id": "gbcHTe4doVcx"
      },
      "execution_count": null,
      "outputs": []
    },
    {
      "cell_type": "code",
      "source": [
        "train = dataset['train'].map(preprocess_function, batched=True)\n",
        "test = dataset['test'].map(preprocess_function, batched=True)\n",
        "validation = dataset['validation'].map(preprocess_function, batched=True)"
      ],
      "metadata": {
        "id": "iBii4zfYoVZh"
      },
      "execution_count": null,
      "outputs": []
    },
    {
      "cell_type": "markdown",
      "source": [
        "Use tokenizer to process the text and include a padding and truncation strategy to handle any variable sequence lengths."
      ],
      "metadata": {
        "id": "KIWdO3ZdHepb"
      }
    },
    {
      "cell_type": "code",
      "source": [
        "tokenizer = AutoTokenizer.from_pretrained(\"google-bert/bert-base-cased\")"
      ],
      "metadata": {
        "colab": {
          "base_uri": "https://localhost:8080/"
        },
        "id": "4ijQM7X7wJS8",
        "outputId": "d5e6e725-b1b0-4216-b9aa-5f091a102cbe"
      },
      "execution_count": null,
      "outputs": [
        {
          "output_type": "stream",
          "name": "stderr",
          "text": [
            "/usr/local/lib/python3.10/dist-packages/huggingface_hub/file_download.py:1132: FutureWarning: `resume_download` is deprecated and will be removed in version 1.0.0. Downloads always resume when possible. If you want to force a new download, use `force_download=True`.\n",
            "  warnings.warn(\n"
          ]
        }
      ]
    },
    {
      "cell_type": "code",
      "source": [
        "def tokenize_function(examples):\n",
        "    return tokenizer(examples[\"text\"], padding=\"max_length\", truncation=True)"
      ],
      "metadata": {
        "id": "16a0Hqi3xSUQ"
      },
      "execution_count": null,
      "outputs": []
    },
    {
      "cell_type": "markdown",
      "source": [
        "To process dataset in one step, use Datasets map() to apply a preprocessing function over the entire dataset"
      ],
      "metadata": {
        "id": "KtT75E4GHqwS"
      }
    },
    {
      "cell_type": "code",
      "source": [
        "tokenized_train = dataset['train'].map(tokenize_function, batched=True)\n",
        "tokenized_test = dataset['test'].map(tokenize_function, batched=True)\n",
        "tokenized_validation = dataset['validation'].map(tokenize_function, batched=True)"
      ],
      "metadata": {
        "colab": {
          "base_uri": "https://localhost:8080/",
          "height": 49,
          "referenced_widgets": [
            "35888477eb6642e7a7b0b5a99ce33453",
            "832a06fbc9b44b8f9c090ae75961dfbf",
            "0501c219e7c1465da53e8c8840a8b0c5",
            "9e06e368663945d09527bb815fba417d",
            "94b9b3f1c7544885b8aa57484a5ec796",
            "1dadff472d084815acbc5386dd7910ad",
            "41f77a0f21924f5a89eb03c3ad5faf02",
            "74111746843c4fd88ba80187353362d7",
            "5a417f61a8a1406492050212270cffb9",
            "80beac797d9649e69c76e5cef13e1f89",
            "2a020f0bb3f045898ec0994c3bf7999e"
          ]
        },
        "id": "d7AzQe0fxV6N",
        "outputId": "06f8b71c-bf93-484b-d04d-9ea59d440413"
      },
      "execution_count": null,
      "outputs": [
        {
          "output_type": "display_data",
          "data": {
            "text/plain": [
              "Map:   0%|          | 0/10000 [00:00<?, ? examples/s]"
            ],
            "application/vnd.jupyter.widget-view+json": {
              "version_major": 2,
              "version_minor": 0,
              "model_id": "35888477eb6642e7a7b0b5a99ce33453"
            }
          },
          "metadata": {}
        }
      ]
    },
    {
      "cell_type": "markdown",
      "source": [
        " create a smaller subset of the full dataset to fine-tune on to reduce the time it takes"
      ],
      "metadata": {
        "id": "N_swEuS4H0fG"
      }
    },
    {
      "cell_type": "code",
      "source": [
        "small_train_dataset = tokenized_train.shuffle(seed=42).select(range(5000))\n",
        "small_eval_dataset = tokenized_validation.shuffle(seed=42).select(range(5000))"
      ],
      "metadata": {
        "id": "mmZLtg_GxXnE"
      },
      "execution_count": null,
      "outputs": []
    },
    {
      "cell_type": "markdown",
      "source": [
        "# pretrained BERT model and tokenizer"
      ],
      "metadata": {
        "id": "Wfug6iP4nzpO"
      }
    },
    {
      "cell_type": "markdown",
      "source": [
        "You will see a warning about some of the pretrained weights not being used and some weights being randomly initialized. Don’t worry, this is completely normal! The pretrained head of the BERT model is discarded, and replaced with a randomly initialized classification head. You will fine-tune this new model head on your sequence classification task, transferring the knowledge of the pretrained model to it."
      ],
      "metadata": {
        "id": "tL4GjoCMI8X4"
      }
    },
    {
      "cell_type": "code",
      "source": [
        "model = AutoModelForSequenceClassification.from_pretrained(\"google-bert/bert-base-cased\",\n",
        "                                                           num_labels=100 )                 # 5"
      ],
      "metadata": {
        "colab": {
          "base_uri": "https://localhost:8080/"
        },
        "id": "1wDQ25h_xbQ9",
        "outputId": "25538313-00dd-47a8-f4c6-c3de0f037c9e"
      },
      "execution_count": null,
      "outputs": [
        {
          "output_type": "stream",
          "name": "stderr",
          "text": [
            "Some weights of BertForSequenceClassification were not initialized from the model checkpoint at google-bert/bert-base-cased and are newly initialized: ['classifier.bias', 'classifier.weight']\n",
            "You should probably TRAIN this model on a down-stream task to be able to use it for predictions and inference.\n"
          ]
        }
      ]
    },
    {
      "cell_type": "markdown",
      "source": [
        "Trainer does not automatically evaluate model performance during training. You’ll need to pass Trainer a function to compute and report metrics. The Evaluate library provides a simple accuracy function you can load with the evaluate.load()"
      ],
      "metadata": {
        "id": "iGmPSB5JJH3D"
      }
    },
    {
      "cell_type": "markdown",
      "source": [
        "Call compute on metric to calculate the accuracy of your predictions. Before passing your predictions to compute, you need to convert the logits to predictions (remember all Transformers models return logits):"
      ],
      "metadata": {
        "id": "wd972TPUJTch"
      }
    },
    {
      "cell_type": "code",
      "source": [
        "def compute_metrics(eval_pred):\n",
        "    metric1 = evaluate.load(\"precision\")\n",
        "    metric2 = evaluate.load(\"recall\")\n",
        "    metric3 = evaluate.load(\"f1\")\n",
        "    metric4 = evaluate.load(\"accuracy\")\n",
        "\n",
        "    logits, labels = eval_pred\n",
        "    predictions = np.argmax(logits, axis=-1)\n",
        "\n",
        "    precision = metric1.compute(predictions=predictions, references=labels,\n",
        "                                average=\"micro\")[\"precision\"]\n",
        "    recall = metric2.compute(predictions=predictions, references=labels,\n",
        "                             average=\"micro\")[\"recall\"]\n",
        "    f1 = metric3.compute(predictions=predictions, references=labels,\n",
        "                         average=\"micro\")[\"f1\"]\n",
        "    accuracy = metric4.compute(predictions=predictions, references=labels)[\n",
        "        \"accuracy\"]\n",
        "\n",
        "    return {\"precision\": precision, \"recall\": recall, \"f1\": f1,\n",
        "            \"accuracy\": accuracy}"
      ],
      "metadata": {
        "id": "47agfeEixjll"
      },
      "execution_count": null,
      "outputs": []
    },
    {
      "cell_type": "markdown",
      "source": [
        "# training"
      ],
      "metadata": {
        "id": "wBbX1ALGoCKB"
      }
    },
    {
      "cell_type": "markdown",
      "source": [
        "Start TensorBoard before training to monitor it in progress"
      ],
      "metadata": {
        "id": "UCsJ8VbrQKyL"
      }
    },
    {
      "cell_type": "code",
      "source": [
        "# %load_ext tensorboard\n",
        "# %tensorboard --logdir 'test_trainer'/runs"
      ],
      "metadata": {
        "id": "lPw-UTzhQO_q"
      },
      "execution_count": null,
      "outputs": []
    },
    {
      "cell_type": "code",
      "source": [
        "# %reload_ext tensorboard"
      ],
      "metadata": {
        "id": "8phNd0tWVhVC"
      },
      "execution_count": null,
      "outputs": []
    },
    {
      "cell_type": "markdown",
      "source": [
        "Create a TrainingArguments class which contains all the hyperparameters you can tune as well as flags for activating different training options. For this tutorial you can start with the default training hyperparameters, but feel free to experiment with these to find your optimal settings."
      ],
      "metadata": {
        "id": "SRnUqli5IXpX"
      }
    },
    {
      "cell_type": "markdown",
      "source": [
        "To monitor your evaluation metrics during fine-tuning, specify the evaluation_strategy parameter in your training arguments to report the evaluation metric at the end of each epoch:"
      ],
      "metadata": {
        "id": "tzLk0yo2JafJ"
      }
    },
    {
      "cell_type": "code",
      "source": [
        "training_args = TrainingArguments(output_dir=\"test_trainer\",\n",
        "                                  # evaluation_strategy=\"epoch\",\n",
        "                                  evaluation_strategy=\"steps\",\n",
        "                                  eval_steps=7500,                 # number_train/batch_size\n",
        "                                  per_device_train_batch_size=8,\n",
        "                                  per_device_eval_batch_size=8,\n",
        "                                  num_train_epochs=3,\n",
        "                                  # report_to=\"tensorboard\"\n",
        "                                  )"
      ],
      "metadata": {
        "id": "I83DEhb8xk0a"
      },
      "execution_count": null,
      "outputs": []
    },
    {
      "cell_type": "markdown",
      "source": [
        "Transformers provides a Trainer class optimized for training Transformers models, making it easier to start training without manually writing your own training loop. The Trainer API supports a wide range of training options and features such as logging, gradient accumulation, and mixed precision."
      ],
      "metadata": {
        "id": "iTKJUvc_IGhk"
      }
    },
    {
      "cell_type": "markdown",
      "source": [
        "Create a Trainer object with your model, training arguments, training and test datasets, and evaluation function"
      ],
      "metadata": {
        "id": "jHy_7ci3Je_b"
      }
    },
    {
      "cell_type": "code",
      "source": [
        "trainer = Trainer(\n",
        "    model=model,\n",
        "    args=training_args,\n",
        "    # train_dataset=small_train_dataset,\n",
        "    # eval_dataset=small_eval_dataset,\n",
        "    train_dataset=tokenized_train,\n",
        "    eval_dataset=tokenized_validation,\n",
        "    compute_metrics=compute_metrics,        #  The function that will be used to compute metrics at evaluation.\n",
        "    tokenizer=tokenizer,\n",
        ")"
      ],
      "metadata": {
        "id": "0smEseeGxmqM"
      },
      "execution_count": null,
      "outputs": []
    },
    {
      "cell_type": "markdown",
      "source": [
        "Then fine-tune your model by calling train()"
      ],
      "metadata": {
        "id": "0LwuwXfNJhar"
      }
    },
    {
      "cell_type": "code",
      "source": [
        "trainer.train()"
      ],
      "metadata": {
        "colab": {
          "base_uri": "https://localhost:8080/",
          "height": 204
        },
        "id": "L_BtcReTxn_U",
        "outputId": "1026c0db-f1f5-44e3-d05e-5791b3194702"
      },
      "execution_count": null,
      "outputs": [
        {
          "output_type": "display_data",
          "data": {
            "text/plain": [
              "<IPython.core.display.HTML object>"
            ],
            "text/html": [
              "\n",
              "    <div>\n",
              "      \n",
              "      <progress value='22500' max='22500' style='width:300px; height:20px; vertical-align: middle;'></progress>\n",
              "      [22500/22500 1:20:00, Epoch 3/3]\n",
              "    </div>\n",
              "    <table border=\"1\" class=\"dataframe\">\n",
              "  <thead>\n",
              " <tr style=\"text-align: left;\">\n",
              "      <th>Step</th>\n",
              "      <th>Training Loss</th>\n",
              "      <th>Validation Loss</th>\n",
              "      <th>Precision</th>\n",
              "      <th>Recall</th>\n",
              "      <th>F1</th>\n",
              "      <th>Accuracy</th>\n",
              "    </tr>\n",
              "  </thead>\n",
              "  <tbody>\n",
              "    <tr>\n",
              "      <td>7500</td>\n",
              "      <td>0.739600</td>\n",
              "      <td>0.667998</td>\n",
              "      <td>0.822300</td>\n",
              "      <td>0.822300</td>\n",
              "      <td>0.822300</td>\n",
              "      <td>0.822300</td>\n",
              "    </tr>\n",
              "    <tr>\n",
              "      <td>15000</td>\n",
              "      <td>0.493900</td>\n",
              "      <td>0.586382</td>\n",
              "      <td>0.851500</td>\n",
              "      <td>0.851500</td>\n",
              "      <td>0.851500</td>\n",
              "      <td>0.851500</td>\n",
              "    </tr>\n",
              "    <tr>\n",
              "      <td>22500</td>\n",
              "      <td>0.320900</td>\n",
              "      <td>0.571167</td>\n",
              "      <td>0.866900</td>\n",
              "      <td>0.866900</td>\n",
              "      <td>0.866900</td>\n",
              "      <td>0.866900</td>\n",
              "    </tr>\n",
              "  </tbody>\n",
              "</table><p>"
            ]
          },
          "metadata": {}
        },
        {
          "output_type": "execute_result",
          "data": {
            "text/plain": [
              "TrainOutput(global_step=22500, training_loss=0.652386006673177, metrics={'train_runtime': 4801.2153, 'train_samples_per_second': 37.491, 'train_steps_per_second': 4.686, 'total_flos': 4.740166213632e+16, 'train_loss': 0.652386006673177, 'epoch': 3.0})"
            ]
          },
          "metadata": {},
          "execution_count": 20
        }
      ]
    },
    {
      "cell_type": "code",
      "source": [
        "model"
      ],
      "metadata": {
        "colab": {
          "base_uri": "https://localhost:8080/"
        },
        "id": "XJVK-q50xqSN",
        "outputId": "90b1e2e6-058a-4b38-c3f9-9d1332023611",
        "collapsed": true
      },
      "execution_count": null,
      "outputs": [
        {
          "output_type": "execute_result",
          "data": {
            "text/plain": [
              "BertForSequenceClassification(\n",
              "  (bert): BertModel(\n",
              "    (embeddings): BertEmbeddings(\n",
              "      (word_embeddings): Embedding(28996, 768, padding_idx=0)\n",
              "      (position_embeddings): Embedding(512, 768)\n",
              "      (token_type_embeddings): Embedding(2, 768)\n",
              "      (LayerNorm): LayerNorm((768,), eps=1e-12, elementwise_affine=True)\n",
              "      (dropout): Dropout(p=0.1, inplace=False)\n",
              "    )\n",
              "    (encoder): BertEncoder(\n",
              "      (layer): ModuleList(\n",
              "        (0-11): 12 x BertLayer(\n",
              "          (attention): BertAttention(\n",
              "            (self): BertSelfAttention(\n",
              "              (query): Linear(in_features=768, out_features=768, bias=True)\n",
              "              (key): Linear(in_features=768, out_features=768, bias=True)\n",
              "              (value): Linear(in_features=768, out_features=768, bias=True)\n",
              "              (dropout): Dropout(p=0.1, inplace=False)\n",
              "            )\n",
              "            (output): BertSelfOutput(\n",
              "              (dense): Linear(in_features=768, out_features=768, bias=True)\n",
              "              (LayerNorm): LayerNorm((768,), eps=1e-12, elementwise_affine=True)\n",
              "              (dropout): Dropout(p=0.1, inplace=False)\n",
              "            )\n",
              "          )\n",
              "          (intermediate): BertIntermediate(\n",
              "            (dense): Linear(in_features=768, out_features=3072, bias=True)\n",
              "            (intermediate_act_fn): GELUActivation()\n",
              "          )\n",
              "          (output): BertOutput(\n",
              "            (dense): Linear(in_features=3072, out_features=768, bias=True)\n",
              "            (LayerNorm): LayerNorm((768,), eps=1e-12, elementwise_affine=True)\n",
              "            (dropout): Dropout(p=0.1, inplace=False)\n",
              "          )\n",
              "        )\n",
              "      )\n",
              "    )\n",
              "    (pooler): BertPooler(\n",
              "      (dense): Linear(in_features=768, out_features=768, bias=True)\n",
              "      (activation): Tanh()\n",
              "    )\n",
              "  )\n",
              "  (dropout): Dropout(p=0.1, inplace=False)\n",
              "  (classifier): Linear(in_features=768, out_features=100, bias=True)\n",
              ")"
            ]
          },
          "metadata": {},
          "execution_count": 21
        }
      ]
    },
    {
      "cell_type": "code",
      "source": [
        "for layer_name, params in model.named_parameters():\n",
        "    print(layer_name, params.shape)"
      ],
      "metadata": {
        "colab": {
          "base_uri": "https://localhost:8080/"
        },
        "id": "Eb1qcCcSK3XD",
        "outputId": "00b7d88a-3763-4b87-fd3c-a6a1b2c5b8ab",
        "collapsed": true
      },
      "execution_count": null,
      "outputs": [
        {
          "output_type": "stream",
          "name": "stdout",
          "text": [
            "bert.embeddings.word_embeddings.weight torch.Size([28996, 768])\n",
            "bert.embeddings.position_embeddings.weight torch.Size([512, 768])\n",
            "bert.embeddings.token_type_embeddings.weight torch.Size([2, 768])\n",
            "bert.embeddings.LayerNorm.weight torch.Size([768])\n",
            "bert.embeddings.LayerNorm.bias torch.Size([768])\n",
            "bert.encoder.layer.0.attention.self.query.weight torch.Size([768, 768])\n",
            "bert.encoder.layer.0.attention.self.query.bias torch.Size([768])\n",
            "bert.encoder.layer.0.attention.self.key.weight torch.Size([768, 768])\n",
            "bert.encoder.layer.0.attention.self.key.bias torch.Size([768])\n",
            "bert.encoder.layer.0.attention.self.value.weight torch.Size([768, 768])\n",
            "bert.encoder.layer.0.attention.self.value.bias torch.Size([768])\n",
            "bert.encoder.layer.0.attention.output.dense.weight torch.Size([768, 768])\n",
            "bert.encoder.layer.0.attention.output.dense.bias torch.Size([768])\n",
            "bert.encoder.layer.0.attention.output.LayerNorm.weight torch.Size([768])\n",
            "bert.encoder.layer.0.attention.output.LayerNorm.bias torch.Size([768])\n",
            "bert.encoder.layer.0.intermediate.dense.weight torch.Size([3072, 768])\n",
            "bert.encoder.layer.0.intermediate.dense.bias torch.Size([3072])\n",
            "bert.encoder.layer.0.output.dense.weight torch.Size([768, 3072])\n",
            "bert.encoder.layer.0.output.dense.bias torch.Size([768])\n",
            "bert.encoder.layer.0.output.LayerNorm.weight torch.Size([768])\n",
            "bert.encoder.layer.0.output.LayerNorm.bias torch.Size([768])\n",
            "bert.encoder.layer.1.attention.self.query.weight torch.Size([768, 768])\n",
            "bert.encoder.layer.1.attention.self.query.bias torch.Size([768])\n",
            "bert.encoder.layer.1.attention.self.key.weight torch.Size([768, 768])\n",
            "bert.encoder.layer.1.attention.self.key.bias torch.Size([768])\n",
            "bert.encoder.layer.1.attention.self.value.weight torch.Size([768, 768])\n",
            "bert.encoder.layer.1.attention.self.value.bias torch.Size([768])\n",
            "bert.encoder.layer.1.attention.output.dense.weight torch.Size([768, 768])\n",
            "bert.encoder.layer.1.attention.output.dense.bias torch.Size([768])\n",
            "bert.encoder.layer.1.attention.output.LayerNorm.weight torch.Size([768])\n",
            "bert.encoder.layer.1.attention.output.LayerNorm.bias torch.Size([768])\n",
            "bert.encoder.layer.1.intermediate.dense.weight torch.Size([3072, 768])\n",
            "bert.encoder.layer.1.intermediate.dense.bias torch.Size([3072])\n",
            "bert.encoder.layer.1.output.dense.weight torch.Size([768, 3072])\n",
            "bert.encoder.layer.1.output.dense.bias torch.Size([768])\n",
            "bert.encoder.layer.1.output.LayerNorm.weight torch.Size([768])\n",
            "bert.encoder.layer.1.output.LayerNorm.bias torch.Size([768])\n",
            "bert.encoder.layer.2.attention.self.query.weight torch.Size([768, 768])\n",
            "bert.encoder.layer.2.attention.self.query.bias torch.Size([768])\n",
            "bert.encoder.layer.2.attention.self.key.weight torch.Size([768, 768])\n",
            "bert.encoder.layer.2.attention.self.key.bias torch.Size([768])\n",
            "bert.encoder.layer.2.attention.self.value.weight torch.Size([768, 768])\n",
            "bert.encoder.layer.2.attention.self.value.bias torch.Size([768])\n",
            "bert.encoder.layer.2.attention.output.dense.weight torch.Size([768, 768])\n",
            "bert.encoder.layer.2.attention.output.dense.bias torch.Size([768])\n",
            "bert.encoder.layer.2.attention.output.LayerNorm.weight torch.Size([768])\n",
            "bert.encoder.layer.2.attention.output.LayerNorm.bias torch.Size([768])\n",
            "bert.encoder.layer.2.intermediate.dense.weight torch.Size([3072, 768])\n",
            "bert.encoder.layer.2.intermediate.dense.bias torch.Size([3072])\n",
            "bert.encoder.layer.2.output.dense.weight torch.Size([768, 3072])\n",
            "bert.encoder.layer.2.output.dense.bias torch.Size([768])\n",
            "bert.encoder.layer.2.output.LayerNorm.weight torch.Size([768])\n",
            "bert.encoder.layer.2.output.LayerNorm.bias torch.Size([768])\n",
            "bert.encoder.layer.3.attention.self.query.weight torch.Size([768, 768])\n",
            "bert.encoder.layer.3.attention.self.query.bias torch.Size([768])\n",
            "bert.encoder.layer.3.attention.self.key.weight torch.Size([768, 768])\n",
            "bert.encoder.layer.3.attention.self.key.bias torch.Size([768])\n",
            "bert.encoder.layer.3.attention.self.value.weight torch.Size([768, 768])\n",
            "bert.encoder.layer.3.attention.self.value.bias torch.Size([768])\n",
            "bert.encoder.layer.3.attention.output.dense.weight torch.Size([768, 768])\n",
            "bert.encoder.layer.3.attention.output.dense.bias torch.Size([768])\n",
            "bert.encoder.layer.3.attention.output.LayerNorm.weight torch.Size([768])\n",
            "bert.encoder.layer.3.attention.output.LayerNorm.bias torch.Size([768])\n",
            "bert.encoder.layer.3.intermediate.dense.weight torch.Size([3072, 768])\n",
            "bert.encoder.layer.3.intermediate.dense.bias torch.Size([3072])\n",
            "bert.encoder.layer.3.output.dense.weight torch.Size([768, 3072])\n",
            "bert.encoder.layer.3.output.dense.bias torch.Size([768])\n",
            "bert.encoder.layer.3.output.LayerNorm.weight torch.Size([768])\n",
            "bert.encoder.layer.3.output.LayerNorm.bias torch.Size([768])\n",
            "bert.encoder.layer.4.attention.self.query.weight torch.Size([768, 768])\n",
            "bert.encoder.layer.4.attention.self.query.bias torch.Size([768])\n",
            "bert.encoder.layer.4.attention.self.key.weight torch.Size([768, 768])\n",
            "bert.encoder.layer.4.attention.self.key.bias torch.Size([768])\n",
            "bert.encoder.layer.4.attention.self.value.weight torch.Size([768, 768])\n",
            "bert.encoder.layer.4.attention.self.value.bias torch.Size([768])\n",
            "bert.encoder.layer.4.attention.output.dense.weight torch.Size([768, 768])\n",
            "bert.encoder.layer.4.attention.output.dense.bias torch.Size([768])\n",
            "bert.encoder.layer.4.attention.output.LayerNorm.weight torch.Size([768])\n",
            "bert.encoder.layer.4.attention.output.LayerNorm.bias torch.Size([768])\n",
            "bert.encoder.layer.4.intermediate.dense.weight torch.Size([3072, 768])\n",
            "bert.encoder.layer.4.intermediate.dense.bias torch.Size([3072])\n",
            "bert.encoder.layer.4.output.dense.weight torch.Size([768, 3072])\n",
            "bert.encoder.layer.4.output.dense.bias torch.Size([768])\n",
            "bert.encoder.layer.4.output.LayerNorm.weight torch.Size([768])\n",
            "bert.encoder.layer.4.output.LayerNorm.bias torch.Size([768])\n",
            "bert.encoder.layer.5.attention.self.query.weight torch.Size([768, 768])\n",
            "bert.encoder.layer.5.attention.self.query.bias torch.Size([768])\n",
            "bert.encoder.layer.5.attention.self.key.weight torch.Size([768, 768])\n",
            "bert.encoder.layer.5.attention.self.key.bias torch.Size([768])\n",
            "bert.encoder.layer.5.attention.self.value.weight torch.Size([768, 768])\n",
            "bert.encoder.layer.5.attention.self.value.bias torch.Size([768])\n",
            "bert.encoder.layer.5.attention.output.dense.weight torch.Size([768, 768])\n",
            "bert.encoder.layer.5.attention.output.dense.bias torch.Size([768])\n",
            "bert.encoder.layer.5.attention.output.LayerNorm.weight torch.Size([768])\n",
            "bert.encoder.layer.5.attention.output.LayerNorm.bias torch.Size([768])\n",
            "bert.encoder.layer.5.intermediate.dense.weight torch.Size([3072, 768])\n",
            "bert.encoder.layer.5.intermediate.dense.bias torch.Size([3072])\n",
            "bert.encoder.layer.5.output.dense.weight torch.Size([768, 3072])\n",
            "bert.encoder.layer.5.output.dense.bias torch.Size([768])\n",
            "bert.encoder.layer.5.output.LayerNorm.weight torch.Size([768])\n",
            "bert.encoder.layer.5.output.LayerNorm.bias torch.Size([768])\n",
            "bert.encoder.layer.6.attention.self.query.weight torch.Size([768, 768])\n",
            "bert.encoder.layer.6.attention.self.query.bias torch.Size([768])\n",
            "bert.encoder.layer.6.attention.self.key.weight torch.Size([768, 768])\n",
            "bert.encoder.layer.6.attention.self.key.bias torch.Size([768])\n",
            "bert.encoder.layer.6.attention.self.value.weight torch.Size([768, 768])\n",
            "bert.encoder.layer.6.attention.self.value.bias torch.Size([768])\n",
            "bert.encoder.layer.6.attention.output.dense.weight torch.Size([768, 768])\n",
            "bert.encoder.layer.6.attention.output.dense.bias torch.Size([768])\n",
            "bert.encoder.layer.6.attention.output.LayerNorm.weight torch.Size([768])\n",
            "bert.encoder.layer.6.attention.output.LayerNorm.bias torch.Size([768])\n",
            "bert.encoder.layer.6.intermediate.dense.weight torch.Size([3072, 768])\n",
            "bert.encoder.layer.6.intermediate.dense.bias torch.Size([3072])\n",
            "bert.encoder.layer.6.output.dense.weight torch.Size([768, 3072])\n",
            "bert.encoder.layer.6.output.dense.bias torch.Size([768])\n",
            "bert.encoder.layer.6.output.LayerNorm.weight torch.Size([768])\n",
            "bert.encoder.layer.6.output.LayerNorm.bias torch.Size([768])\n",
            "bert.encoder.layer.7.attention.self.query.weight torch.Size([768, 768])\n",
            "bert.encoder.layer.7.attention.self.query.bias torch.Size([768])\n",
            "bert.encoder.layer.7.attention.self.key.weight torch.Size([768, 768])\n",
            "bert.encoder.layer.7.attention.self.key.bias torch.Size([768])\n",
            "bert.encoder.layer.7.attention.self.value.weight torch.Size([768, 768])\n",
            "bert.encoder.layer.7.attention.self.value.bias torch.Size([768])\n",
            "bert.encoder.layer.7.attention.output.dense.weight torch.Size([768, 768])\n",
            "bert.encoder.layer.7.attention.output.dense.bias torch.Size([768])\n",
            "bert.encoder.layer.7.attention.output.LayerNorm.weight torch.Size([768])\n",
            "bert.encoder.layer.7.attention.output.LayerNorm.bias torch.Size([768])\n",
            "bert.encoder.layer.7.intermediate.dense.weight torch.Size([3072, 768])\n",
            "bert.encoder.layer.7.intermediate.dense.bias torch.Size([3072])\n",
            "bert.encoder.layer.7.output.dense.weight torch.Size([768, 3072])\n",
            "bert.encoder.layer.7.output.dense.bias torch.Size([768])\n",
            "bert.encoder.layer.7.output.LayerNorm.weight torch.Size([768])\n",
            "bert.encoder.layer.7.output.LayerNorm.bias torch.Size([768])\n",
            "bert.encoder.layer.8.attention.self.query.weight torch.Size([768, 768])\n",
            "bert.encoder.layer.8.attention.self.query.bias torch.Size([768])\n",
            "bert.encoder.layer.8.attention.self.key.weight torch.Size([768, 768])\n",
            "bert.encoder.layer.8.attention.self.key.bias torch.Size([768])\n",
            "bert.encoder.layer.8.attention.self.value.weight torch.Size([768, 768])\n",
            "bert.encoder.layer.8.attention.self.value.bias torch.Size([768])\n",
            "bert.encoder.layer.8.attention.output.dense.weight torch.Size([768, 768])\n",
            "bert.encoder.layer.8.attention.output.dense.bias torch.Size([768])\n",
            "bert.encoder.layer.8.attention.output.LayerNorm.weight torch.Size([768])\n",
            "bert.encoder.layer.8.attention.output.LayerNorm.bias torch.Size([768])\n",
            "bert.encoder.layer.8.intermediate.dense.weight torch.Size([3072, 768])\n",
            "bert.encoder.layer.8.intermediate.dense.bias torch.Size([3072])\n",
            "bert.encoder.layer.8.output.dense.weight torch.Size([768, 3072])\n",
            "bert.encoder.layer.8.output.dense.bias torch.Size([768])\n",
            "bert.encoder.layer.8.output.LayerNorm.weight torch.Size([768])\n",
            "bert.encoder.layer.8.output.LayerNorm.bias torch.Size([768])\n",
            "bert.encoder.layer.9.attention.self.query.weight torch.Size([768, 768])\n",
            "bert.encoder.layer.9.attention.self.query.bias torch.Size([768])\n",
            "bert.encoder.layer.9.attention.self.key.weight torch.Size([768, 768])\n",
            "bert.encoder.layer.9.attention.self.key.bias torch.Size([768])\n",
            "bert.encoder.layer.9.attention.self.value.weight torch.Size([768, 768])\n",
            "bert.encoder.layer.9.attention.self.value.bias torch.Size([768])\n",
            "bert.encoder.layer.9.attention.output.dense.weight torch.Size([768, 768])\n",
            "bert.encoder.layer.9.attention.output.dense.bias torch.Size([768])\n",
            "bert.encoder.layer.9.attention.output.LayerNorm.weight torch.Size([768])\n",
            "bert.encoder.layer.9.attention.output.LayerNorm.bias torch.Size([768])\n",
            "bert.encoder.layer.9.intermediate.dense.weight torch.Size([3072, 768])\n",
            "bert.encoder.layer.9.intermediate.dense.bias torch.Size([3072])\n",
            "bert.encoder.layer.9.output.dense.weight torch.Size([768, 3072])\n",
            "bert.encoder.layer.9.output.dense.bias torch.Size([768])\n",
            "bert.encoder.layer.9.output.LayerNorm.weight torch.Size([768])\n",
            "bert.encoder.layer.9.output.LayerNorm.bias torch.Size([768])\n",
            "bert.encoder.layer.10.attention.self.query.weight torch.Size([768, 768])\n",
            "bert.encoder.layer.10.attention.self.query.bias torch.Size([768])\n",
            "bert.encoder.layer.10.attention.self.key.weight torch.Size([768, 768])\n",
            "bert.encoder.layer.10.attention.self.key.bias torch.Size([768])\n",
            "bert.encoder.layer.10.attention.self.value.weight torch.Size([768, 768])\n",
            "bert.encoder.layer.10.attention.self.value.bias torch.Size([768])\n",
            "bert.encoder.layer.10.attention.output.dense.weight torch.Size([768, 768])\n",
            "bert.encoder.layer.10.attention.output.dense.bias torch.Size([768])\n",
            "bert.encoder.layer.10.attention.output.LayerNorm.weight torch.Size([768])\n",
            "bert.encoder.layer.10.attention.output.LayerNorm.bias torch.Size([768])\n",
            "bert.encoder.layer.10.intermediate.dense.weight torch.Size([3072, 768])\n",
            "bert.encoder.layer.10.intermediate.dense.bias torch.Size([3072])\n",
            "bert.encoder.layer.10.output.dense.weight torch.Size([768, 3072])\n",
            "bert.encoder.layer.10.output.dense.bias torch.Size([768])\n",
            "bert.encoder.layer.10.output.LayerNorm.weight torch.Size([768])\n",
            "bert.encoder.layer.10.output.LayerNorm.bias torch.Size([768])\n",
            "bert.encoder.layer.11.attention.self.query.weight torch.Size([768, 768])\n",
            "bert.encoder.layer.11.attention.self.query.bias torch.Size([768])\n",
            "bert.encoder.layer.11.attention.self.key.weight torch.Size([768, 768])\n",
            "bert.encoder.layer.11.attention.self.key.bias torch.Size([768])\n",
            "bert.encoder.layer.11.attention.self.value.weight torch.Size([768, 768])\n",
            "bert.encoder.layer.11.attention.self.value.bias torch.Size([768])\n",
            "bert.encoder.layer.11.attention.output.dense.weight torch.Size([768, 768])\n",
            "bert.encoder.layer.11.attention.output.dense.bias torch.Size([768])\n",
            "bert.encoder.layer.11.attention.output.LayerNorm.weight torch.Size([768])\n",
            "bert.encoder.layer.11.attention.output.LayerNorm.bias torch.Size([768])\n",
            "bert.encoder.layer.11.intermediate.dense.weight torch.Size([3072, 768])\n",
            "bert.encoder.layer.11.intermediate.dense.bias torch.Size([3072])\n",
            "bert.encoder.layer.11.output.dense.weight torch.Size([768, 3072])\n",
            "bert.encoder.layer.11.output.dense.bias torch.Size([768])\n",
            "bert.encoder.layer.11.output.LayerNorm.weight torch.Size([768])\n",
            "bert.encoder.layer.11.output.LayerNorm.bias torch.Size([768])\n",
            "bert.pooler.dense.weight torch.Size([768, 768])\n",
            "bert.pooler.dense.bias torch.Size([768])\n",
            "classifier.weight torch.Size([100, 768])\n",
            "classifier.bias torch.Size([100])\n"
          ]
        }
      ]
    },
    {
      "cell_type": "code",
      "source": [
        "def predict_class(lst):\n",
        "  return [np.argmax(pred) for pred in lst]"
      ],
      "metadata": {
        "id": "0YY1-EPqycI2"
      },
      "execution_count": null,
      "outputs": []
    },
    {
      "cell_type": "code",
      "source": [
        "y_pred = trainer.predict(tokenized_test)"
      ],
      "metadata": {
        "colab": {
          "base_uri": "https://localhost:8080/",
          "height": 17
        },
        "id": "zrihcmvCnlye",
        "outputId": "3f6c986c-53d4-47d6-b290-0941664d9b8e"
      },
      "execution_count": null,
      "outputs": [
        {
          "output_type": "display_data",
          "data": {
            "text/plain": [
              "<IPython.core.display.HTML object>"
            ],
            "text/html": []
          },
          "metadata": {}
        }
      ]
    },
    {
      "cell_type": "code",
      "source": [
        "pred_lbl = predict_class(y_pred[0])"
      ],
      "metadata": {
        "id": "DlIBWm_gnl12"
      },
      "execution_count": null,
      "outputs": []
    },
    {
      "cell_type": "markdown",
      "source": [
        "# fine-tuned model perf. eval on test data"
      ],
      "metadata": {
        "id": "y3EIEuvdoJyR"
      }
    },
    {
      "cell_type": "code",
      "source": [
        "print(classification_report(tokenized_test['label'], pred_lbl))"
      ],
      "metadata": {
        "colab": {
          "base_uri": "https://localhost:8080/"
        },
        "id": "UD2pkZ7znl41",
        "outputId": "14984f52-4a9c-44d8-ff36-ca3a4e6f4bb1",
        "collapsed": true
      },
      "execution_count": null,
      "outputs": [
        {
          "output_type": "stream",
          "name": "stdout",
          "text": [
            "              precision    recall  f1-score   support\n",
            "\n",
            "           0       0.92      0.92      0.92        88\n",
            "           1       0.68      0.48      0.56        48\n",
            "           2       0.82      0.90      0.86       224\n",
            "           3       0.95      0.91      0.93        23\n",
            "           4       1.00      0.04      0.07        53\n",
            "           5       0.62      0.62      0.62        26\n",
            "           6       0.83      0.96      0.89        47\n",
            "           7       0.87      0.90      0.88       195\n",
            "           8       0.00      0.00      0.00         4\n",
            "           9       0.60      0.56      0.58        62\n",
            "          10       0.74      0.79      0.76        90\n",
            "          11       0.97      0.97      0.97       112\n",
            "          12       0.83      0.74      0.78        81\n",
            "          13       0.68      0.81      0.74       126\n",
            "          14       1.00      1.00      1.00         2\n",
            "          15       0.97      0.99      0.98        70\n",
            "          16       0.97      0.95      0.96        63\n",
            "          17       0.94      0.93      0.94        87\n",
            "          18       0.98      0.98      0.98        64\n",
            "          19       0.92      0.96      0.94       208\n",
            "          20       0.89      0.98      0.93       167\n",
            "          21       0.69      0.61      0.65        33\n",
            "          22       0.81      0.85      0.83        81\n",
            "          23       0.68      0.71      0.70        63\n",
            "          24       0.91      0.85      0.88        82\n",
            "          25       0.40      0.53      0.46        15\n",
            "          26       0.98      0.99      0.99       490\n",
            "          27       0.85      0.86      0.86        66\n",
            "          28       0.60      0.55      0.57        56\n",
            "          29       0.75      0.77      0.76       119\n",
            "          30       0.84      0.85      0.85        48\n",
            "          31       0.89      0.94      0.91        97\n",
            "          32       0.87      0.78      0.82        58\n",
            "          33       0.80      0.89      0.85        74\n",
            "          34       0.61      0.55      0.58        31\n",
            "          35       0.82      0.77      0.79        47\n",
            "          36       0.78      0.56      0.65        45\n",
            "          37       0.84      0.50      0.63        42\n",
            "          38       0.87      0.99      0.93       376\n",
            "          39       0.98      0.98      0.98        58\n",
            "          40       1.00      0.83      0.91        42\n",
            "          41       0.92      0.92      0.92       183\n",
            "          42       0.86      0.83      0.85        89\n",
            "          43       0.99      0.99      0.99        82\n",
            "          44       0.82      0.87      0.84        52\n",
            "          45       0.93      0.97      0.95       152\n",
            "          46       0.73      0.53      0.62       203\n",
            "          47       0.89      0.98      0.93       582\n",
            "          48       0.97      1.00      0.98       220\n",
            "          49       0.84      0.94      0.89       152\n",
            "          50       0.69      0.38      0.49        29\n",
            "          51       0.95      0.96      0.96       133\n",
            "          52       0.90      0.47      0.62        59\n",
            "          53       0.92      0.94      0.93        64\n",
            "          54       0.88      0.90      0.89        42\n",
            "          55       0.78      0.66      0.71        76\n",
            "          56       0.67      0.48      0.56        29\n",
            "          57       0.93      0.86      0.89        49\n",
            "          58       0.98      0.96      0.97       129\n",
            "          59       0.67      0.47      0.55        79\n",
            "          60       0.71      0.45      0.56        55\n",
            "          61       0.91      0.94      0.92       104\n",
            "          62       0.94      0.92      0.93        63\n",
            "          63       0.75      0.77      0.76        84\n",
            "          64       0.96      1.00      0.98        46\n",
            "          65       0.97      0.97      0.97       422\n",
            "          66       0.87      0.92      0.89        73\n",
            "          67       0.93      1.00      0.97        70\n",
            "          68       0.70      0.83      0.76       126\n",
            "          69       0.61      0.88      0.72        32\n",
            "          70       0.33      0.46      0.39        13\n",
            "          71       1.00      0.95      0.98        42\n",
            "          72       0.67      0.40      0.50         5\n",
            "          73       0.97      0.97      0.97        31\n",
            "          74       0.82      0.88      0.85        60\n",
            "          75       0.84      0.86      0.85       118\n",
            "          76       0.72      0.76      0.74        94\n",
            "          77       0.88      0.80      0.84        45\n",
            "          78       0.79      0.79      0.79        14\n",
            "          79       0.95      0.99      0.97       412\n",
            "          80       0.97      0.98      0.98        66\n",
            "          81       0.79      0.88      0.84        43\n",
            "          82       0.70      0.72      0.71        29\n",
            "          83       0.90      0.98      0.94        63\n",
            "          84       0.85      0.67      0.75        96\n",
            "          85       0.91      0.99      0.95       222\n",
            "          86       0.62      0.56      0.59        75\n",
            "          87       0.89      0.82      0.85       185\n",
            "          88       0.84      0.79      0.81       118\n",
            "          89       0.91      0.81      0.86       176\n",
            "          90       0.88      0.64      0.74        45\n",
            "          91       0.98      0.98      0.98        46\n",
            "          92       0.97      0.99      0.98       120\n",
            "          93       1.00      0.98      0.99        52\n",
            "          94       0.38      0.30      0.33        20\n",
            "          95       0.85      0.94      0.89        87\n",
            "          96       0.95      0.98      0.96       111\n",
            "          97       0.80      0.81      0.80       166\n",
            "          98       0.89      0.57      0.69        97\n",
            "          99       0.65      0.83      0.73       107\n",
            "\n",
            "    accuracy                           0.87     10000\n",
            "   macro avg       0.83      0.80      0.80     10000\n",
            "weighted avg       0.87      0.87      0.86     10000\n",
            "\n"
          ]
        },
        {
          "output_type": "stream",
          "name": "stderr",
          "text": [
            "/usr/local/lib/python3.10/dist-packages/sklearn/metrics/_classification.py:1344: UndefinedMetricWarning: Precision and F-score are ill-defined and being set to 0.0 in labels with no predicted samples. Use `zero_division` parameter to control this behavior.\n",
            "  _warn_prf(average, modifier, msg_start, len(result))\n",
            "/usr/local/lib/python3.10/dist-packages/sklearn/metrics/_classification.py:1344: UndefinedMetricWarning: Precision and F-score are ill-defined and being set to 0.0 in labels with no predicted samples. Use `zero_division` parameter to control this behavior.\n",
            "  _warn_prf(average, modifier, msg_start, len(result))\n",
            "/usr/local/lib/python3.10/dist-packages/sklearn/metrics/_classification.py:1344: UndefinedMetricWarning: Precision and F-score are ill-defined and being set to 0.0 in labels with no predicted samples. Use `zero_division` parameter to control this behavior.\n",
            "  _warn_prf(average, modifier, msg_start, len(result))\n"
          ]
        }
      ]
    },
    {
      "cell_type": "code",
      "source": [
        "cm = confusion_matrix(pred_lbl,tokenized_test['label'])\n",
        "cmn = cm.astype('float') / cm.sum(axis=1)[:, np.newaxis]\n",
        "fig, ax = plt.subplots(figsize=(8,6))\n",
        "fx = sns.heatmap(cmn, fmt='.2f', cmap= 'GnBu') # cmap=\"GnBu\"\n",
        "fx.set_title('Confusion Matrix (Normalized) \\n');\n",
        "fx.set_xlabel('\\n Predicted Values\\n')\n",
        "fx.set_ylabel('Actual Values\\n');"
      ],
      "metadata": {
        "colab": {
          "base_uri": "https://localhost:8080/",
          "height": 656
        },
        "id": "yrs2OSWgnl8g",
        "outputId": "593ce044-1f52-4ad9-d3c8-f3a961bfde18"
      },
      "execution_count": null,
      "outputs": [
        {
          "output_type": "stream",
          "name": "stderr",
          "text": [
            "<ipython-input-26-321d8af890b4>:2: RuntimeWarning: invalid value encountered in divide\n",
            "  cmn = cm.astype('float') / cm.sum(axis=1)[:, np.newaxis]\n"
          ]
        },
        {
          "output_type": "display_data",
          "data": {
            "text/plain": [
              "<Figure size 800x600 with 2 Axes>"
            ],
            "image/png": "[encoded data removed]"
          },
          "metadata": {}
        }
      ]
    },
    {
      "cell_type": "markdown",
      "source": [
        "# push fine-tuned model to huggingface"
      ],
      "metadata": {
        "id": "3fJnfDk6oRAT"
      }
    },
    {
      "cell_type": "code",
      "source": [
        "!huggingface-cli login"
      ],
      "metadata": {
        "id": "tj1Cl-7fnBZW",
        "colab": {
          "base_uri": "https://localhost:8080/"
        },
        "outputId": "f7730662-caf6-496c-a8e4-21ca8fc55184"
      },
      "execution_count": null,
      "outputs": [
        {
          "output_type": "stream",
          "name": "stdout",
          "text": [
            "\n",
            "    _|    _|  _|    _|    _|_|_|    _|_|_|  _|_|_|  _|      _|    _|_|_|      _|_|_|_|    _|_|      _|_|_|  _|_|_|_|\n",
            "    _|    _|  _|    _|  _|        _|          _|    _|_|    _|  _|            _|        _|    _|  _|        _|\n",
            "    _|_|_|_|  _|    _|  _|  _|_|  _|  _|_|    _|    _|  _|  _|  _|  _|_|      _|_|_|    _|_|_|_|  _|        _|_|_|\n",
            "    _|    _|  _|    _|  _|    _|  _|    _|    _|    _|    _|_|  _|    _|      _|        _|    _|  _|        _|\n",
            "    _|    _|    _|_|      _|_|_|    _|_|_|  _|_|_|  _|      _|    _|_|_|      _|        _|    _|    _|_|_|  _|_|_|_|\n",
            "\n",
            "    To login, `huggingface_hub` requires a token generated from https://huggingface.co/settings/tokens .\n",
            "Enter your token (input will not be visible): \n",
            "Add token as git credential? (Y/n) n\n",
            "Token is valid (permission: write).\n",
            "Your token has been saved to /root/.cache/huggingface/token\n",
            "Login successful\n"
          ]
        }
      ]
    },
    {
      "cell_type": "code",
      "source": [
        "trainer.push_to_hub(\"AmitTewari/LegalPro-BERT\")"
      ],
      "metadata": {
        "colab": {
          "base_uri": "https://localhost:8080/",
          "height": 244,
          "referenced_widgets": [
            "170e9df9e2494aa0891aa1b3f813e39f",
            "ff437dd2f5a643cf98a1c4fbda3f8414",
            "699c855c86fc4979858eb79be454b5be",
            "36caf9233be84ee89556075f69e500b3",
            "83bff8932a1b4ca893b08208ca26f40e",
            "84389cb13a514173a4e370b43fdbe05c",
            "766be7d6c0cc47fd86087e2ce46b4540",
            "12b4a705c638431da4188ed3b99c6b8c",
            "068dce9592e74a1b8914fddc709780aa",
            "8a0005411bc94ecebc0c7192c6b4bea3",
            "ef0b86c5861045a380a17b8eab8dddc8",
            "181481756ec94b479d5b5c90239036cb",
            "b58eb530518349df8a43ef86d89b82bd",
            "f82e8c7a216342709d313852595f7b7b",
            "e7b8e4c8c2424e07800471d32b9c7138",
            "86a3f98ea2b74c62b906f0c80bde49df",
            "6fddae11ae69434f88a257c2389c867a",
            "d37e65ec8b0d42229346b6fcfeefba95",
            "22f3108441b0430891582a93dcde6048",
            "bd87f5ab956b4bcfb4d3746a9aaabdab",
            "8ada4ad5979b4710b443245d4dcbab6b",
            "f136ada78a954f90b2aa0b882b7b4865",
            "7934bc1ca23b4bccacae15c59c47bcb3",
            "cf9c0953049f4f7a907a49a6b5d36c42",
            "89a11836c3ab4380a107728fc3ebd4c5",
            "032d7ea10a4b4ad4b8afa8f40056d37e",
            "ddf155d63c8f40b69f558b2816c4200e",
            "7736bc68158c484f95b2589b44c5c105",
            "a398e77933674087b40cea150001623f",
            "a342d43fef374fbd916fd9d86aecdc99",
            "afd1bffed80943df9fab4f3c73cbd378",
            "06faf8b89b1142398aad9c9f8b0d936f",
            "eb0fa3b0be7a4923a31bcda46d854623",
            "6b41abe54f5b47a58ebe793be80cd2d3",
            "77b3dc35ffaa403bb29dfb8be014638d",
            "0723a02c09304cd58c7198f4f4bcba63",
            "fe8782f73e3f45b0b74b7937f3de9504",
            "48a169345370445dbf5524515cb06971",
            "3f7e191e6c114f4c93746452749794ed",
            "30695bc7f3824ddda8e67bdc9bcbc1fe",
            "f1f552a00d40473dafff380c115b0620",
            "38087c7993f649f197170416835a3dff",
            "c0469e4ba055447898afce27c18de833",
            "fbacb00173db49c5b39396d2fd8c15f5",
            "598a888131d641d1a719af7beb2e7ec2",
            "e00e3653df66464ca622baa952c8a479",
            "6dab27c85c3347b6bdc81599951551c8",
            "403428e52b3d4800b1921a0dd77d5578",
            "4ee05a9b9c0f46738f3e89fc19629506",
            "7706967ce4ac4f66a0da568eb38222ad",
            "0cd447a1c2294624a381bda1f622e6db",
            "cb04c8669b0f4878a5805836e51f4071",
            "b3cbaf78eb2e476c8ad9cde83e18715a",
            "6d3038a607044fab9cff3227d6534857",
            "7e5da3f5af41469ea08f611bd74a60e7",
            "7d07c517e7864fb78da86fb8f2d1157a",
            "1ab7a7d0767d4c59bc0eda5aae6727f5",
            "247ee3a8150a482c8a19c47967f5b195",
            "aa4e56610cda4756b907264580991fb4",
            "1375ef11df234e4eb4f1cfd136cb2d48",
            "6aece64d1ae941a9b3f815362859b5ea",
            "4ef38fa2c6524ae1b559d3cc316211e6",
            "f78b6e0c2aa946f591a9457240fe65f5",
            "dcbdb9bb7c874388924af81742229f8e",
            "181fff89d17f4b95afe7b1f5920d2e90",
            "2d6a8fe9a9c642d0ac627e25a45854dc"
          ]
        },
        "id": "cHonoFyZErpF",
        "outputId": "2afc3e20-61a1-4a96-85a9-916e140a3cc0"
      },
      "execution_count": null,
      "outputs": [
        {
          "output_type": "display_data",
          "data": {
            "text/plain": [
              "events.out.tfevents.1715836622.58394d5d4d26.4795.1:   0%|          | 0.00/9.16k [00:00<?, ?B/s]"
            ],
            "application/vnd.jupyter.widget-view+json": {
              "version_major": 2,
              "version_minor": 0,
              "model_id": "170e9df9e2494aa0891aa1b3f813e39f"
            }
          },
          "metadata": {}
        },
        {
          "output_type": "display_data",
          "data": {
            "text/plain": [
              "events.out.tfevents.1715837015.58394d5d4d26.19926.0:   0%|          | 0.00/20.2k [00:00<?, ?B/s]"
            ],
            "application/vnd.jupyter.widget-view+json": {
              "version_major": 2,
              "version_minor": 0,
              "model_id": "181481756ec94b479d5b5c90239036cb"
            }
          },
          "metadata": {}
        },
        {
          "output_type": "display_data",
          "data": {
            "text/plain": [
              "training_args.bin:   0%|          | 0.00/4.98k [00:00<?, ?B/s]"
            ],
            "application/vnd.jupyter.widget-view+json": {
              "version_major": 2,
              "version_minor": 0,
              "model_id": "7934bc1ca23b4bccacae15c59c47bcb3"
            }
          },
          "metadata": {}
        },
        {
          "output_type": "display_data",
          "data": {
            "text/plain": [
              "model.safetensors:   0%|          | 0.00/434M [00:00<?, ?B/s]"
            ],
            "application/vnd.jupyter.widget-view+json": {
              "version_major": 2,
              "version_minor": 0,
              "model_id": "6b41abe54f5b47a58ebe793be80cd2d3"
            }
          },
          "metadata": {}
        },
        {
          "output_type": "display_data",
          "data": {
            "text/plain": [
              "events.out.tfevents.1715835138.58394d5d4d26.4795.0:   0%|          | 0.00/11.3k [00:00<?, ?B/s]"
            ],
            "application/vnd.jupyter.widget-view+json": {
              "version_major": 2,
              "version_minor": 0,
              "model_id": "598a888131d641d1a719af7beb2e7ec2"
            }
          },
          "metadata": {}
        },
        {
          "output_type": "display_data",
          "data": {
            "text/plain": [
              "Upload 5 LFS files:   0%|          | 0/5 [00:00<?, ?it/s]"
            ],
            "application/vnd.jupyter.widget-view+json": {
              "version_major": 2,
              "version_minor": 0,
              "model_id": "7d07c517e7864fb78da86fb8f2d1157a"
            }
          },
          "metadata": {}
        },
        {
          "output_type": "execute_result",
          "data": {
            "text/plain": [
              "CommitInfo(commit_url='https://huggingface.co/AmitTewari/test_trainer/commit/3fadda4002fc230b2195e1fe4c499af158418838', commit_message='AmitTewari/LegalPro-BERT', commit_description='', oid='3fadda4002fc230b2195e1fe4c499af158418838', pr_url=None, pr_revision=None, pr_num=None)"
            ],
            "application/vnd.google.colaboratory.intrinsic+json": {
              "type": "string"
            }
          },
          "metadata": {},
          "execution_count": 28
        }
      ]
    },
    {
      "cell_type": "code",
      "source": [
        "# # Runtime termination code\n",
        "# from google.colab import runtime\n",
        "# runtime.unassign()"
      ],
      "metadata": {
        "id": "VmQo3r1G1Gb4"
      },
      "execution_count": null,
      "outputs": []
    },
    {
      "cell_type": "markdown",
      "source": [
        "To test inference API - https://huggingface.co/AmitTewari/test_trainer"
      ],
      "metadata": {
        "id": "_E0BHPNBQwKO"
      }
    },
    {
      "cell_type": "code",
      "source": [
        "print(tokenized_test[0]['label'])\n",
        "print(tokenized_test[0]['text'])\n",
        "print(pred_lbl[0])"
      ],
      "metadata": {
        "colab": {
          "base_uri": "https://localhost:8080/"
        },
        "id": "2lVOQJZOPbe2",
        "outputId": "3b17b0ff-fe39-458b-fc58-a660fb5db380"
      },
      "execution_count": null,
      "outputs": [
        {
          "output_type": "stream",
          "name": "stdout",
          "text": [
            "35\n",
            "Executive agrees to be employed with the Company, and the Company agrees to employ Executive, during the Term and on the terms and conditions set forth in this Agreement. Executive agrees during the term of this Agreement to devote substantially all of Executive’s business time, efforts, skills and abilities to the performance of Executive’s duties to the Company and to the furtherance of the Company's business.\n",
            "35\n"
          ]
        }
      ]
    },
    {
      "cell_type": "markdown",
      "source": [
        "Fine-tune a pretrained model - https://huggingface.co/docs/transformers/en/training"
      ],
      "metadata": {
        "id": "fmXMrpgenhnj"
      }
    },
    {
      "cell_type": "code",
      "source": [],
      "metadata": {
        "id": "7mnjGHwkQY_Y"
      },
      "execution_count": null,
      "outputs": []
    }
  ]
}